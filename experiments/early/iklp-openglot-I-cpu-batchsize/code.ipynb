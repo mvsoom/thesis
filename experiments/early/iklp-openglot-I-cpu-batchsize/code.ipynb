{
 "cells": [
  {
   "cell_type": "code",
   "execution_count": null,
   "id": "d5274f4a",
   "metadata": {
    "papermill": {},
    "tags": [
     "parameters",
     "export"
    ]
   },
   "outputs": [],
   "source": [
    "seed = 0\n",
    "wav_file = (\n",
    "    \"/home/marnix/thesis/data/OPENGLOT/RepositoryI/Vowel_O/O_normal_320Hz.wav\"\n",
    ")\n",
    "\n",
    "noise_floor_db = -40.0\n",
    "\n",
    "jax_enable_x64 = True\n",
    "jax_platform_name = \"gpu\"\n",
    "batch_size = 1\n",
    "num_metrics_samples = 1"
   ]
  },
  {
   "cell_type": "code",
   "execution_count": 2,
   "id": "14683a73",
   "metadata": {
    "papermill": {},
    "tags": []
   },
   "outputs": [
    {
     "name": "stderr",
     "output_type": "stream",
     "text": [
      "WARNING:2025-08-26 17:45:23,428:jax._src.dispatch:198: Finished tracing + transforming convert_element_type for pjit in 0.000217915 sec\n",
      "WARNING:2025-08-26 17:45:23,750:jax._src.interpreters.pxla:1865: Compiling convert_element_type with global shapes and types [ShapedArray(int64[])]. Argument mapping: (UnspecifiedValue,).\n",
      "WARNING:2025-08-26 17:45:23,757:jax._src.dispatch:198: Finished jaxpr to MLIR module conversion jit(convert_element_type) in 0.006467581 sec\n",
      "WARNING:2025-08-26 17:45:23,774:jax._src.dispatch:198: Finished XLA compilation of jit(convert_element_type) in 0.015903473 sec\n",
      "WARNING:2025-08-26 17:45:23,786:jax._src.dispatch:198: Finished tracing + transforming bitwise_and for pjit in 0.000282288 sec\n",
      "WARNING:2025-08-26 17:45:23,786:jax._src.dispatch:198: Finished tracing + transforming _threefry_seed for pjit in 0.001611233 sec\n",
      "WARNING:2025-08-26 17:45:23,787:jax._src.interpreters.pxla:1865: Compiling _threefry_seed with global shapes and types [ShapedArray(int64[])]. Argument mapping: (UnspecifiedValue,).\n",
      "WARNING:2025-08-26 17:45:23,791:jax._src.dispatch:198: Finished jaxpr to MLIR module conversion jit(_threefry_seed) in 0.003477573 sec\n",
      "WARNING:2025-08-26 17:45:23,818:jax._src.dispatch:198: Finished XLA compilation of jit(_threefry_seed) in 0.026593924 sec\n",
      "WARNING:2025-08-26 17:45:23,821:jax._src.dispatch:198: Finished tracing + transforming convert_element_type for pjit in 0.000178814 sec\n",
      "WARNING:2025-08-26 17:45:23,821:jax._src.interpreters.pxla:1865: Compiling convert_element_type with global shapes and types [ShapedArray(float64[])]. Argument mapping: (UnspecifiedValue,).\n",
      "WARNING:2025-08-26 17:45:23,823:jax._src.dispatch:198: Finished jaxpr to MLIR module conversion jit(convert_element_type) in 0.001737595 sec\n",
      "WARNING:2025-08-26 17:45:23,829:jax._src.dispatch:198: Finished XLA compilation of jit(convert_element_type) in 0.005100727 sec\n",
      "WARNING:2025-08-26 17:45:24,463:jax._src.dispatch:198: Finished tracing + transforming convert_element_type for pjit in 0.000198603 sec\n",
      "WARNING:2025-08-26 17:45:24,464:jax._src.interpreters.pxla:1865: Compiling convert_element_type with global shapes and types [ShapedArray(float64[])]. Argument mapping: (UnspecifiedValue,).\n",
      "WARNING:2025-08-26 17:45:24,467:jax._src.dispatch:198: Finished jaxpr to MLIR module conversion jit(convert_element_type) in 0.002423525 sec\n",
      "WARNING:2025-08-26 17:45:24,474:jax._src.dispatch:198: Finished XLA compilation of jit(convert_element_type) in 0.006169081 sec\n"
     ]
    },
    {
     "name": "stdout",
     "output_type": "stream",
     "text": [
      "default float: float64\n",
      "backend: cuda:0\n"
     ]
    }
   ],
   "source": [
    "from time import time\n",
    "\n",
    "import jax\n",
    "import jax.numpy as jnp\n",
    "\n",
    "\n",
    "# First to set config flags wins!\n",
    "jax.config.update(\"jax_enable_x64\", jax_enable_x64)\n",
    "jax.config.update(\"jax_platform_name\", jax_platform_name)\n",
    "\n",
    "import numpy as np\n",
    "import soundfile as sf\n",
    "\n",
    "from iklp.run import vi_frames_batched\n",
    "from iklp.hyperparams import Hyperparams\n",
    "from iklp.periodic import periodic_kernel_phi\n",
    "from utils.audio import frame_signal, resample\n",
    "\n",
    "# Print out jax config\n",
    "print(\"default float:\", jnp.array(0.0).dtype)\n",
    "print(\"backend:\", jnp.array(0.0).device)"
   ]
  },
  {
   "cell_type": "code",
   "execution_count": 3,
   "id": "d83fbbb7",
   "metadata": {
    "papermill": {},
    "tags": [
     "export"
    ]
   },
   "outputs": [],
   "source": [
    "vowel, modality, true_pitch = (\n",
    "    wav_file.split(\"/\")[-1].split(\".\")[-2].split(\"_\")[:3]\n",
    ")\n",
    "vowel = vowel.lower()\n",
    "modality = modality.lower()\n",
    "true_pitch = int(true_pitch.lower()[:-2])  # Remove 'Hz' from the pitch string"
   ]
  },
  {
   "cell_type": "code",
   "execution_count": 4,
   "id": "91ac9629",
   "metadata": {
    "papermill": {},
    "tags": []
   },
   "outputs": [],
   "source": [
    "# Use same parameters as in OPENGLOT and Yoshii\n",
    "P = 9\n",
    "I = 400\n",
    "f0_min = 70  # Typical lower bound (Nielsen 2013)\n",
    "f0_max = 400\n",
    "\n",
    "# Nudge\n",
    "initial_pitchedness = 0.99\n",
    "\n",
    "# Adjust these together\n",
    "target_sr = 8000\n",
    "frame_len = 1024\n",
    "hop = 80\n",
    "# batch_size = 2 # hyperparameter"
   ]
  },
  {
   "cell_type": "code",
   "execution_count": 5,
   "id": "1b7c7e51",
   "metadata": {
    "papermill": {},
    "tags": []
   },
   "outputs": [
    {
     "name": "stderr",
     "output_type": "stream",
     "text": [
      "WARNING:2025-08-26 17:45:29,117:jax._src.dispatch:198: Finished tracing + transforming convert_element_type for pjit in 0.000321627 sec\n",
      "WARNING:2025-08-26 17:45:29,118:jax._src.interpreters.pxla:1865: Compiling convert_element_type with global shapes and types [ShapedArray(float64[8,1024])]. Argument mapping: (UnspecifiedValue,).\n",
      "WARNING:2025-08-26 17:45:29,122:jax._src.dispatch:198: Finished jaxpr to MLIR module conversion jit(convert_element_type) in 0.003085375 sec\n",
      "WARNING:2025-08-26 17:45:29,134:jax._src.dispatch:198: Finished XLA compilation of jit(convert_element_type) in 0.011104345 sec\n"
     ]
    },
    {
     "name": "stdout",
     "output_type": "stream",
     "text": [
      "→ Loaded /home/marnix/thesis/data/OPENGLOT/RepositoryI/Vowel_O/O_normal_320Hz.wav (1600 samples, 8000 Hz), 8 frames of 1024 samples each\n"
     ]
    }
   ],
   "source": [
    "audio, sr_in = sf.read(\n",
    "    wav_file, always_2d=False, dtype=\"float64\" if jax_enable_x64 else \"float32\"\n",
    ")\n",
    "\n",
    "# Split channels\n",
    "x = audio[:, 0]\n",
    "dgf = audio[:, 1]\n",
    "\n",
    "x = resample(x, sr_in, target_sr)\n",
    "dgf = resample(dgf, sr_in, target_sr)\n",
    "\n",
    "# Normalize data to unit power\n",
    "scale = 1 / np.sqrt(np.mean(x**2))\n",
    "x = x * scale\n",
    "dgf = dgf * scale\n",
    "\n",
    "frames = frame_signal(x, frame_len, hop)  # ((n_frames, frame_len)\n",
    "frames = jnp.array(frames)\n",
    "\n",
    "print(\n",
    "    f\"→ Loaded {wav_file} ({len(x)} samples, {sr_in} Hz), {frames.shape[0]} frames of {frame_len} samples each\"\n",
    ")\n"
   ]
  },
  {
   "cell_type": "code",
   "execution_count": null,
   "id": "15cb17f0",
   "metadata": {
    "papermill": {},
    "tags": []
   },
   "outputs": [],
   "source": [
    "from utils.jax import maybe32\n",
    "\n",
    "\n",
    "f0, Phi = periodic_kernel_phi(\n",
    "    I=I,\n",
    "    M=frame_len,\n",
    "    fs=target_sr,\n",
    "    f0_min=f0_min,\n",
    "    f0_max=f0_max,\n",
    "    noise_floor_db=noise_floor_db,\n",
    ")\n",
    "\n",
    "aw = initial_pitchedness / (1 - initial_pitchedness)\n",
    "\n",
    "\n",
    "h = Hyperparams(\n",
    "    Phi,\n",
    "    P=P,\n",
    "    aw=maybe32(aw),\n",
    "    num_vi_restarts=5,\n",
    "    num_vi_iters=30,\n",
    "    num_metrics_samples=num_metrics_samples,\n",
    ")\n",
    "\n",
    "master_key = jax.random.PRNGKey(seed)"
   ]
  },
  {
   "cell_type": "code",
   "execution_count": 12,
   "id": "eb5ee804",
   "metadata": {
    "papermill": {},
    "tags": []
   },
   "outputs": [
    {
     "name": "stdout",
     "output_type": "stream",
     "text": [
      "Metrics shape: (2, 2, 31)\n",
      "Walltime for VI: 142.87 seconds\n",
      "Total iterations: 124\n",
      "Time per iteration: 1.15 seconds\n"
     ]
    }
   ],
   "source": [
    "t0 = time()\n",
    "metrics = vi_frames_batched(master_key, frames, h, batch_size=batch_size)\n",
    "# Materialize\n",
    "jax.block_until_ready(metrics)\n",
    "walltime = time() - t0\n",
    "\n",
    "print(f\"Metrics shape: {metrics.elbo.shape}\")\n",
    "print(f\"Walltime for VI: {walltime:.2f} seconds\")\n",
    "\n",
    "total_iters = np.prod(metrics.elbo.shape[:3])\n",
    "\n",
    "print(f\"Total iterations: {total_iters}\")\n",
    "print(f\"Time per iteration: {walltime / total_iters:.2f} seconds\")"
   ]
  },
  {
   "cell_type": "code",
   "execution_count": 8,
   "id": "fb713e1d",
   "metadata": {
    "papermill": {},
    "tags": [
     "export"
    ]
   },
   "outputs": [],
   "source": [
    "time_per_iter = walltime / total_iters\n",
    "I, M, r = h.Phi.shape"
   ]
  },
  {
   "cell_type": "code",
   "execution_count": 9,
   "id": "export-glue",
   "metadata": {},
   "outputs": [
    {
     "data": {
      "application/scrapbook.scrap.json+json": {
       "data": 400,
       "encoder": "json",
       "name": "I",
       "version": 1
      }
     },
     "metadata": {
      "scrapbook": {
       "data": true,
       "display": false,
       "name": "I"
      }
     },
     "output_type": "display_data"
    },
    {
     "data": {
      "application/scrapbook.scrap.json+json": {
       "data": 1024,
       "encoder": "json",
       "name": "M",
       "version": 1
      }
     },
     "metadata": {
      "scrapbook": {
       "data": true,
       "display": false,
       "name": "M"
      }
     },
     "output_type": "display_data"
    },
    {
     "data": {
      "application/scrapbook.scrap.json+json": {
       "data": 1,
       "encoder": "json",
       "name": "batch_size",
       "version": 1
      }
     },
     "metadata": {
      "scrapbook": {
       "data": true,
       "display": false,
       "name": "batch_size"
      }
     },
     "output_type": "display_data"
    },
    {
     "data": {
      "application/scrapbook.scrap.json+json": {
       "data": true,
       "encoder": "json",
       "name": "jax_enable_x64",
       "version": 1
      }
     },
     "metadata": {
      "scrapbook": {
       "data": true,
       "display": false,
       "name": "jax_enable_x64"
      }
     },
     "output_type": "display_data"
    },
    {
     "data": {
      "application/scrapbook.scrap.text+json": {
       "data": "gpu",
       "encoder": "text",
       "name": "jax_platform_name",
       "version": 1
      }
     },
     "metadata": {
      "scrapbook": {
       "data": true,
       "display": false,
       "name": "jax_platform_name"
      }
     },
     "output_type": "display_data"
    },
    {
     "data": {
      "application/scrapbook.scrap.text+json": {
       "data": "normal",
       "encoder": "text",
       "name": "modality",
       "version": 1
      }
     },
     "metadata": {
      "scrapbook": {
       "data": true,
       "display": false,
       "name": "modality"
      }
     },
     "output_type": "display_data"
    },
    {
     "data": {
      "application/scrapbook.scrap.json+json": {
       "data": -40,
       "encoder": "json",
       "name": "noise_floor_db",
       "version": 1
      }
     },
     "metadata": {
      "scrapbook": {
       "data": true,
       "display": false,
       "name": "noise_floor_db"
      }
     },
     "output_type": "display_data"
    },
    {
     "data": {
      "application/scrapbook.scrap.json+json": {
       "data": 7,
       "encoder": "json",
       "name": "r",
       "version": 1
      }
     },
     "metadata": {
      "scrapbook": {
       "data": true,
       "display": false,
       "name": "r"
      }
     },
     "output_type": "display_data"
    },
    {
     "data": {
      "application/scrapbook.scrap.json+json": {
       "data": 0,
       "encoder": "json",
       "name": "seed",
       "version": 1
      }
     },
     "metadata": {
      "scrapbook": {
       "data": true,
       "display": false,
       "name": "seed"
      }
     },
     "output_type": "display_data"
    },
    {
     "data": {
      "application/scrapbook.scrap.json+json": {
       "data": 0.8730045116716816,
       "encoder": "json",
       "name": "time_per_iter",
       "version": 1
      }
     },
     "metadata": {
      "scrapbook": {
       "data": true,
       "display": false,
       "name": "time_per_iter"
      }
     },
     "output_type": "display_data"
    },
    {
     "data": {
      "application/scrapbook.scrap.json+json": {
       "data": 320,
       "encoder": "json",
       "name": "true_pitch",
       "version": 1
      }
     },
     "metadata": {
      "scrapbook": {
       "data": true,
       "display": false,
       "name": "true_pitch"
      }
     },
     "output_type": "display_data"
    },
    {
     "data": {
      "application/scrapbook.scrap.text+json": {
       "data": "o",
       "encoder": "text",
       "name": "vowel",
       "version": 1
      }
     },
     "metadata": {
      "scrapbook": {
       "data": true,
       "display": false,
       "name": "vowel"
      }
     },
     "output_type": "display_data"
    },
    {
     "data": {
      "application/scrapbook.scrap.text+json": {
       "data": "/home/marnix/thesis/data/OPENGLOT/RepositoryI/Vowel_O/O_normal_320Hz.wav",
       "encoder": "text",
       "name": "wav_file",
       "version": 1
      }
     },
     "metadata": {
      "scrapbook": {
       "data": true,
       "display": false,
       "name": "wav_file"
      }
     },
     "output_type": "display_data"
    }
   ],
   "source": [
    "import scrapbook as sb\n",
    "import numpy as np\n",
    "\n",
    "\n",
    "def _to_py(x):\n",
    "    if hasattr(x, \"tolist\"):\n",
    "        try:\n",
    "            return x.tolist()\n",
    "        except Exception:\n",
    "            pass\n",
    "    if isinstance(x, np.generic):\n",
    "        return x.item()\n",
    "    return x\n",
    "\n",
    "\n",
    "def _walk(x):\n",
    "    x = _to_py(x)\n",
    "    if isinstance(x, dict):\n",
    "        return {k: _walk(v) for k, v in x.items()}\n",
    "    if isinstance(x, (list, tuple)):\n",
    "        return [_walk(v) for v in x]\n",
    "    return x\n",
    "\n",
    "\n",
    "# glue exports\n",
    "sb.glue(\"I\", _walk(I))\n",
    "sb.glue(\"M\", _walk(M))\n",
    "sb.glue(\"batch_size\", _walk(batch_size))\n",
    "sb.glue(\"jax_enable_x64\", _walk(jax_enable_x64))\n",
    "sb.glue(\"jax_platform_name\", _walk(jax_platform_name))\n",
    "sb.glue(\"modality\", _walk(modality))\n",
    "sb.glue(\"noise_floor_db\", _walk(noise_floor_db))\n",
    "sb.glue(\"r\", _walk(r))\n",
    "sb.glue(\"seed\", _walk(seed))\n",
    "sb.glue(\"time_per_iter\", _walk(time_per_iter))\n",
    "sb.glue(\"true_pitch\", _walk(true_pitch))\n",
    "sb.glue(\"vowel\", _walk(vowel))\n",
    "sb.glue(\"wav_file\", _walk(wav_file))"
   ]
  }
 ],
 "metadata": {
  "kernelspec": {
   "display_name": ".venv (3.10.12)",
   "language": "python",
   "name": "python3"
  },
  "language_info": {
   "codemirror_mode": {
    "name": "ipython",
    "version": 3
   },
   "file_extension": ".py",
   "mimetype": "text/x-python",
   "name": "python",
   "nbconvert_exporter": "python",
   "pygments_lexer": "ipython3",
   "version": "3.10.12"
  },
  "papermill": {
   "default_parameters": {},
   "environment_variables": {},
   "input_path": "/home/marnix/thesis/experiments/iklp-openglot-I-cpu-batchsize/code.ipynb",
   "output_path": "/home/marnix/thesis/experiments/iklp-openglot-I-cpu-batchsize/runs/E_creaky_100Hz_-10.0_False_cpu_1.ipynb",
   "parameters": {
    "batch_size": 1,
    "jax_enable_x64": false,
    "jax_platform_name": "cpu",
    "noise_floor_db": -10,
    "seed": 4175115445,
    "wav_file": "/home/marnix/thesis/data/OPENGLOT/RepositoryI/Vowel_E/E_creaky_100Hz.wav"
   },
   "version": "2.6.0"
  }
 },
 "nbformat": 4,
 "nbformat_minor": 5
}
