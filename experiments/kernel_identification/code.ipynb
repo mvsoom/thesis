{
 "cells": [
  {
   "cell_type": "markdown",
   "metadata": {},
   "source": [
    "# Single effective lengthscale\n",
    "\n",
    "Given a sparse mixture { (k_j, ℓ_j) } with weights w_j = θ_j / Σ_i θ_i, define per-component correlation times\n",
    "\n",
    "$$\n",
    "\\tau_j = c_{k_j}\\,\\ell_j, \\quad\n",
    "c_{\\mathrm{m12}}=1,\\; c_{\\mathrm{m32}}=\\frac{2}{\\sqrt{3}},\\;\n",
    "c_{\\mathrm{m52}}=\\frac{8}{3\\sqrt{5}},\\; c_{\\mathrm{rbf}}=\\sqrt{\\frac{\\pi}{2}}.\n",
    "$$\n",
    "\n",
    "Use the geometric mean as a single scalar statistic:\n",
    "\n",
    "$$\n",
    "\\ell_{\\mathrm{eff}} \\equiv \\exp\\!\\Big(\\sum_j w_j \\log \\tau_j\\Big).\n",
    "$$\n",
    "\n",
    "With M points and m samples per lengthscale: Δt = ℓ_eff / m, T = (M-1)Δt, domain [-L, L] with L = T/2.\n",
    "\n",
    "# Weighted rank r (shared across kernels; Hilbert on [-L, L])\n",
    "\n",
    "Fix a spectral tolerance ε (e.g., ε=10^{-2}). For each kernel j, solve S_j(ω_c)/S_j(0)=ε. Closed forms (angular frequency):\n",
    "\n",
    "$$\n",
    "\\begin{aligned}\n",
    "\\text{m12: } & \\omega_c = \\tfrac{1}{\\ell}\\sqrt{\\varepsilon^{-1}-1},\\\\\n",
    "\\text{m32: } & \\omega_c = \\tfrac{\\sqrt{3}}{\\ell}\\sqrt{\\varepsilon^{-1/2}-1},\\\\\n",
    "\\text{m52: } & \\omega_c = \\tfrac{\\sqrt{5}}{\\ell}\\sqrt{\\varepsilon^{-1/3}-1},\\\\\n",
    "\\text{rbf: } & \\omega_c = \\sqrt{2\\ln(1/\\varepsilon)}\\,/\\,\\ell.\n",
    "\\end{aligned}\n",
    "$$\n",
    "\n",
    "On [-L, L], Laplacian eigenfrequencies are \\( s_n = n\\pi/(2L) \\). Per-kernel mode count:\n",
    "\n",
    "$$\n",
    "r_j = \\Big\\lceil \\frac{2L}{\\pi}\\,\\omega_{c,j} \\Big\\rceil.\n",
    "$$\n",
    "\n",
    "Aggregate to a single rank with mixture weights and a small safety factor γ (e.g., γ=1.1):\n",
    "\n",
    "$$\n",
    "r = \\left\\lceil \\gamma \\sum_j w_j\\, r_j \\right\\rceil\n",
    "\\quad \\text{(or use a weighted quantile if you prefer robustness).}\n",
    "$$\n",
    "\n",
    "# Hilbert kernel construction (for reference)\n",
    "\n",
    "Use sine basis on [-L, L]:\n",
    "\n",
    "$$\n",
    "\\phi_n(x)=\\sqrt{\\tfrac{1}{L}}\\;\\sin\\!\\Big(\\tfrac{n\\pi}{2L}\\,(x+L)\\Big),\\quad\n",
    "s_n=\\tfrac{n\\pi}{2L},\\ n=1,\\dots,r,\n",
    "$$\n",
    "\n",
    "with diagonal weights from the base PSD:\n",
    "\n",
    "$$\n",
    "\\lambda_n = S\\!\\big(s_n\\big),\\qquad\n",
    "k(x,x') \\approx \\sum_{n=1}^r \\lambda_n\\,\\phi_n(x)\\,\\phi_n(x').\n",
    "$$\n"
   ]
  },
  {
   "cell_type": "code",
   "execution_count": 123,
   "metadata": {
    "tags": [
     "parameters",
     "export"
    ]
   },
   "outputs": [],
   "source": [
    "seed = 0\n",
    "\n",
    "noise_floor_db = -40.0\n",
    "\n",
    "jax_enable_x64 = True\n",
    "jax_platform_name = \"gpu\"\n",
    "batch_size = 1\n",
    "num_metrics_samples = 1\n",
    "\n",
    "N_kernels = 2\n",
    "N_ell = 100\n",
    "\n",
    "alpha_scale = 1.0\n",
    "\n",
    "P = 0  # Kernel identification: no_filter mode\n",
    "\n",
    "assert N_kernels <= 4"
   ]
  },
  {
   "cell_type": "code",
   "execution_count": 125,
   "metadata": {},
   "outputs": [],
   "source": [
    "import jax\n",
    "import jax.numpy as jnp\n",
    "\n",
    "# First to set config flags wins!\n",
    "jax.config.update(\"jax_enable_x64\", jax_enable_x64)\n",
    "jax.config.update(\"jax_platform_name\", jax_platform_name)"
   ]
  },
  {
   "cell_type": "code",
   "execution_count": 126,
   "metadata": {},
   "outputs": [],
   "source": [
    "import gpjax as gpx\n",
    "import jax\n",
    "import jax.numpy as jnp\n",
    "import numpy as np\n",
    "import scipy\n",
    "from matplotlib import pyplot as plt\n",
    "\n",
    "from iklp.hyperparams import (\n",
    "    active_components,\n",
    "    pi_kappa_hyperparameters,\n",
    ")\n",
    "from iklp.mercer import psd_svd\n",
    "from iklp.mercer_op import sample_parts\n",
    "from iklp.metrics import (\n",
    "    StateMetrics,\n",
    "    compute_metrics_power_distribution,\n",
    "    compute_power_distibution,\n",
    ")\n",
    "from iklp.run import print_progress, vi_run_criterion\n",
    "from iklp.state import (\n",
    "    compute_expectations,\n",
    "    sample_x_from_z,\n",
    "    sample_z_from_prior,\n",
    ")\n",
    "from utils.jax import maybe32, vk\n",
    "from iklp.hyperparams import solve_for_alpha\n"
   ]
  },
  {
   "cell_type": "code",
   "execution_count": 128,
   "metadata": {},
   "outputs": [],
   "source": [
    "master_key = jax.random.PRNGKey(seed)\n",
    "\n",
    "I = N_kernels * N_ell\n",
    "\n",
    "alpha = alpha_scale * solve_for_alpha(I)\n",
    "\n",
    "pi = 0.95\n",
    "kappa = 1.0\n",
    "\n",
    "h = pi_kappa_hyperparameters(\n",
    "    jnp.empty((I, 0, 0)), alpha=maybe32(alpha), pi=pi, kappa=kappa, P=P\n",
    ")"
   ]
  },
  {
   "cell_type": "code",
   "execution_count": 129,
   "metadata": {},
   "outputs": [
    {
     "name": "stdout",
     "output_type": "stream",
     "text": [
      "nu_w 0.29892501804909066\n",
      "nu_e 0.0001801058656661295\n",
      "sum(theta) =  0.4750795458991217\n",
      "total power =  0.1421932676983149\n",
      "pitchedness =  0.9993978509518364\n",
      "I_eff = 5.409748869170837\n"
     ]
    }
   ],
   "source": [
    "master_key, key = jax.random.split(master_key)\n",
    "\n",
    "z = sample_z_from_prior(key, h)\n",
    "\n",
    "print(\"nu_w\", z.nu_w)\n",
    "print(\"nu_e\", z.nu_e)\n",
    "print(\"sum(theta) = \", z.theta.sum())\n",
    "print(\"total power = \", z.nu_w * z.theta.sum() + z.nu_e)\n",
    "print(\"pitchedness = \", z.nu_w / (z.nu_w + z.nu_e))\n",
    "print(\"I_eff =\", active_components(z.theta))"
   ]
  },
  {
   "cell_type": "code",
   "execution_count": 130,
   "metadata": {},
   "outputs": [
    {
     "data": {
      "text/plain": [
       "Array([4.98975922e-008, 4.09088452e-033, 2.20860400e-113, 3.07347916e-068,\n",
       "       2.03314003e-121, 4.93529516e-084, 8.65480606e-038, 8.46471723e-085,\n",
       "       1.89553860e-065, 5.48951229e-311, 2.12491478e-020, 3.23789189e-205,\n",
       "       3.77557890e-063, 2.04030481e-312, 1.82051419e-133, 6.65943898e-038,\n",
       "       4.59994264e-047, 1.24633107e-009, 5.87802473e-018, 8.54796692e-050,\n",
       "       1.67506363e-106, 1.06229641e-223, 1.64179370e-017, 1.47369270e-135,\n",
       "       2.49461070e-057, 1.77956840e-024, 2.17654496e-080, 2.69213199e-088,\n",
       "       2.08882879e-099, 1.03764990e-196, 0.00000000e+000, 3.84533267e-014,\n",
       "       9.21607979e-084, 1.56271709e-013, 3.84657627e-038, 9.25630247e-134,\n",
       "       5.85199185e-045, 1.22022841e-056, 1.93275347e-028, 2.69605261e-043,\n",
       "       2.18292691e-064, 1.30685310e-001, 2.83703679e-030, 7.30556584e-016,\n",
       "       4.58960804e-203, 2.22486492e-019, 6.34348097e-066, 1.12461350e-106,\n",
       "       6.52281570e-018, 1.29394221e-267, 5.93940950e-011, 6.86080163e-008,\n",
       "       8.25326823e-093, 4.56857234e-006, 2.19048868e-059, 3.43738510e-077,\n",
       "       1.39010002e-274, 1.14623276e-104, 1.08889457e-260, 2.71362645e-016,\n",
       "       8.66807114e-022, 4.49725530e-100, 4.30830251e-027, 4.95893671e-167,\n",
       "       3.15195388e-209, 3.49377543e-214, 3.25276775e-011, 1.18704856e-085,\n",
       "       5.31132766e-070, 4.06019178e-102, 9.90852989e-102, 7.01936345e-040,\n",
       "       5.37087983e-020, 8.22012281e-012, 6.56153877e-039, 1.59273535e-142,\n",
       "       4.54010523e-043, 7.93501094e-121, 3.85663667e-141, 1.55225833e-084,\n",
       "       1.40326221e-117, 1.16050427e-050, 5.67854517e-097, 5.32932795e-007,\n",
       "       1.36608031e-137, 8.33747737e-073, 7.33838587e-002, 8.89332478e-016,\n",
       "       1.01620890e-058, 1.19679749e-060, 1.66284984e-047, 6.39462927e-147,\n",
       "       1.14476980e-079, 5.44621599e-003, 4.84005833e-052, 3.24757475e-190,\n",
       "       2.11663829e-009, 1.45762264e-156, 1.75555953e-004, 3.08754823e-041,\n",
       "       5.43877597e-125, 1.85099573e-020, 3.60903506e-004, 2.80278212e-249,\n",
       "       1.35819400e-080, 8.92985417e-149, 0.00000000e+000, 2.62818445e-062,\n",
       "       5.81414783e-073, 1.22159416e-138, 6.69820627e-054, 1.48814804e-223,\n",
       "       1.10635239e-004, 6.64770978e-028, 3.07954347e-035, 1.22936973e-115,\n",
       "       1.01180466e-002, 0.00000000e+000, 1.76002031e-082, 1.06303985e-055,\n",
       "       4.16757602e-004, 3.27799357e-111, 1.37905966e-080, 4.34477418e-094,\n",
       "       2.19779312e-175, 2.30572971e-154, 3.25723394e-034, 2.45393063e-024,\n",
       "       2.47531119e-286, 4.18684513e-079, 1.48858550e-102, 1.99298635e-010,\n",
       "       1.45025010e-187, 1.03712918e-078, 2.32158163e-030, 5.76836074e-032,\n",
       "       7.34886416e-016, 1.88013437e-057, 1.52783850e-069, 2.67076426e-064,\n",
       "       4.57719652e-233, 1.01752818e-180, 7.50912003e-202, 4.65431813e-096,\n",
       "       1.98683795e-015, 1.36401891e-001, 2.06407903e-038, 2.57920801e-111,\n",
       "       6.38603908e-071, 1.29955113e-055, 1.23660301e-273, 9.23573910e-021,\n",
       "       9.42767631e-019, 1.58239797e-027, 2.24756413e-046, 2.33768506e-146,\n",
       "       0.00000000e+000, 6.82344072e-168, 2.60553576e-260, 1.36078362e-195,\n",
       "       0.00000000e+000, 2.15264183e-009, 2.53597228e-120, 5.45919029e-140,\n",
       "       7.02208902e-237, 2.15987698e-123, 1.44060157e-002, 1.78945941e-003,\n",
       "       4.74865822e-013, 3.54122876e-033, 6.21957973e-045, 2.57490823e-018,\n",
       "       4.19925007e-014, 5.91361522e-132, 1.47452799e-191, 8.95805950e-002,\n",
       "       3.20999715e-055, 1.80094821e-215, 1.21310923e-002, 3.93309876e-076,\n",
       "       7.06621464e-104, 4.32772963e-025, 8.64180124e-070, 3.76218653e-022,\n",
       "       1.29529230e-098, 6.79830829e-005, 1.38581219e-140, 1.03737333e-012,\n",
       "       1.27357139e-047, 6.32759239e-046, 6.56325377e-169, 2.78624722e-044,\n",
       "       4.24039668e-035, 2.36622275e-022, 5.52005473e-065, 1.98671225e-216,\n",
       "       1.43581032e-072, 2.34556504e-048, 1.73087898e-039, 1.05212472e-052],      dtype=float64)"
      ]
     },
     "execution_count": 130,
     "metadata": {},
     "output_type": "execute_result"
    }
   ],
   "source": [
    "# Get a representative lengthscale\n",
    "z.theta"
   ]
  },
  {
   "cell_type": "code",
   "execution_count": null,
   "metadata": {},
   "outputs": [
    {
     "name": "stderr",
     "output_type": "stream",
     "text": [
      "WARNING:2025-08-27 11:46:58,917:jax._src.dispatch:198: Finished tracing + transforming _linspace for pjit in 0.002713203 sec\n",
      "WARNING:jax._src.dispatch:Finished tracing + transforming _linspace for pjit in 0.002713203 sec\n",
      "WARNING:2025-08-27 11:46:58,919:jax._src.interpreters.pxla:1865: Compiling _linspace with global shapes and types [ShapedArray(int64[], weak_type=True), ShapedArray(float64[], weak_type=True)]. Argument mapping: (UnspecifiedValue, UnspecifiedValue).\n",
      "WARNING:jax._src.interpreters.pxla:Compiling _linspace with global shapes and types [ShapedArray(int64[], weak_type=True), ShapedArray(float64[], weak_type=True)]. Argument mapping: (UnspecifiedValue, UnspecifiedValue).\n",
      "WARNING:2025-08-27 11:46:58,927:jax._src.dispatch:198: Finished jaxpr to MLIR module conversion jit(_linspace) in 0.005872965 sec\n",
      "WARNING:jax._src.dispatch:Finished jaxpr to MLIR module conversion jit(_linspace) in 0.005872965 sec\n",
      "WARNING:2025-08-27 11:46:58,991:jax._src.dispatch:198: Finished XLA compilation of jit(_linspace) in 0.061348677 sec\n",
      "WARNING:jax._src.dispatch:Finished XLA compilation of jit(_linspace) in 0.061348677 sec\n"
     ]
    },
    {
     "name": "stdout",
     "output_type": "stream",
     "text": [
      "['Matérn12', 'Matérn32', 'Matérn52', 'RBF']\n"
     ]
    }
   ],
   "source": [
    "# Get some kernels\n",
    "kernels = [\n",
    "    gpx.kernels.Matern12(n_dims=1),\n",
    "    gpx.kernels.Matern32(n_dims=1),\n",
    "    gpx.kernels.Matern52(n_dims=1),\n",
    "    gpx.kernels.RBF(n_dims=1),\n",
    "]\n",
    "\n",
    "print([k.name for k in kernels])\n",
    "\n",
    "ells = jnp.logspace(-1, 1, num=100)\n",
    "\n",
    "\n",
    "t = jnp.linspace(-3, 3.0, num=200).reshape(-1, 1)"
   ]
  },
  {
   "cell_type": "code",
   "execution_count": null,
   "metadata": {},
   "outputs": [
    {
     "data": {
      "text/plain": [
       "['Matérn12', 'Matérn32', 'Matérn52', 'RBF']"
      ]
     },
     "execution_count": 16,
     "metadata": {},
     "output_type": "execute_result"
    }
   ],
   "source": []
  },
  {
   "cell_type": "code",
   "execution_count": null,
   "metadata": {},
   "outputs": [],
   "source": [
    "I = len(kernels)\n",
    "K = jnp.stack([k.gram(t).to_dense() for k in kernels], axis=0)\n",
    "Phi = psd_svd(K)\n"
   ]
  },
  {
   "cell_type": "code",
   "execution_count": null,
   "metadata": {},
   "outputs": [
    {
     "data": {
      "text/plain": [
       "Array([ 0.1       ,  0.10476158,  0.10974988,  0.1149757 ,  0.12045035,\n",
       "        0.12618569,  0.13219411,  0.13848864,  0.14508288,  0.15199111,\n",
       "        0.15922828,  0.16681005,  0.17475284,  0.18307383,  0.19179103,\n",
       "        0.2009233 ,  0.21049041,  0.22051307,  0.23101297,  0.24201283,\n",
       "        0.25353645,  0.26560878,  0.27825594,  0.29150531,  0.30538555,\n",
       "        0.31992671,  0.33516027,  0.35111917,  0.36783798,  0.38535286,\n",
       "        0.40370173,  0.42292429,  0.44306215,  0.46415888,  0.48626016,\n",
       "        0.5094138 ,  0.53366992,  0.55908102,  0.58570208,  0.61359073,\n",
       "        0.64280731,  0.67341507,  0.70548023,  0.7390722 ,  0.77426368,\n",
       "        0.81113083,  0.84975344,  0.89021509,  0.93260335,  0.97700996,\n",
       "        1.02353102,  1.07226722,  1.12332403,  1.17681195,  1.23284674,\n",
       "        1.29154967,  1.35304777,  1.41747416,  1.48496826,  1.55567614,\n",
       "        1.62975083,  1.70735265,  1.78864953,  1.87381742,  1.96304065,\n",
       "        2.05651231,  2.15443469,  2.25701972,  2.36448941,  2.47707636,\n",
       "        2.59502421,  2.71858824,  2.84803587,  2.98364724,  3.12571585,\n",
       "        3.27454916,  3.43046929,  3.59381366,  3.76493581,  3.94420606,\n",
       "        4.1320124 ,  4.32876128,  4.53487851,  4.75081016,  4.97702356,\n",
       "        5.21400829,  5.46227722,  5.72236766,  5.9948425 ,  6.28029144,\n",
       "        6.57933225,  6.8926121 ,  7.22080902,  7.56463328,  7.92482898,\n",
       "        8.30217568,  8.69749003,  9.11162756,  9.54548457, 10.        ],      dtype=float64)"
      ]
     },
     "execution_count": 10,
     "metadata": {},
     "output_type": "execute_result"
    }
   ],
   "source": []
  },
  {
   "cell_type": "code",
   "execution_count": null,
   "metadata": {},
   "outputs": [],
   "source": [
    "# Setup stuff\n",
    "CMAP = plt.get_cmap(\"coolwarm\")\n",
    "\n",
    "# WARNING: need to jit any function used in on_metrics() callback, otherwise trigers recompilation at every iteration\n",
    "compute_expectations = jax.jit(compute_expectations)\n",
    "compute_metrics_power_distribution = jax.jit(compute_metrics_power_distribution)\n",
    "\n",
    "collected_metrics = []\n",
    "\n",
    "\n",
    "def on_metrics(metrics: StateMetrics):\n",
    "    print_progress(metrics)\n",
    "\n",
    "    global collected_metrics\n",
    "    collected_metrics.append(metrics)\n"
   ]
  },
  {
   "cell_type": "code",
   "execution_count": null,
   "metadata": {},
   "outputs": [],
   "source": [
    "# Define hyperparameters and sample from prior\n",
    "alpha = 0.1  # solve_for_alpha(I) => ensure one component dominates\n",
    "pi = 0.95\n",
    "kappa = 1.0\n",
    "\n",
    "h = pi_kappa_hyperparameters(Phi, alpha=maybe32(alpha), pi=pi, kappa=kappa, P=0)\n",
    "z = sample_z_from_prior(vk(), h)\n",
    "x = sample_x_from_z(vk(), z, h)\n",
    "\n",
    "print(\"nu_w\", z.nu_w)\n",
    "print(\"nu_e\", z.nu_e)\n",
    "print(\"sum(theta) = \", z.theta.sum())\n",
    "print(\"pitchedness = \", z.nu_w / (z.nu_w + z.nu_e))\n",
    "print(\"I_eff =\", active_components(z.theta))\n",
    "power = jnp.mean(x**2)\n",
    "print(\"power(x)/(nu_w + nu_e) = \", power / (z.nu_w + z.nu_e))\n",
    "\n",
    "# Show sampled timeseries x\n",
    "plt.figure()\n",
    "plt.plot(x)\n",
    "plt.xlabel(\"x\")\n",
    "plt.title(\"Sampled x\")\n",
    "plt.show()\n",
    "\n",
    "\n",
    "# Show power waterfall plot\n",
    "plt.figure()\n",
    "\n",
    "# This plots on plt via on_metrics() function\n",
    "state, metrics = vi_run_criterion(vk(), x, h, callback=on_metrics)\n",
    "\n",
    "for i, ms in enumerate(collected_metrics):\n",
    "    power_distribution = compute_metrics_power_distribution(ms)\n",
    "    plt.plot(\n",
    "        power_distribution,\n",
    "        linewidth=1.0,\n",
    "        color=CMAP(i / len(collected_metrics)),\n",
    "    )\n",
    "\n",
    "inferred_power_distribution = compute_metrics_power_distribution(metrics)\n",
    "\n",
    "true_power_distribution = compute_power_distibution(z)\n",
    "\n",
    "plt.stem(\n",
    "    true_power_distribution,\n",
    "    linefmt=\"r-\",\n",
    "    markerfmt=\"ro\",\n",
    "    label=\"true power distribution\",\n",
    "    basefmt=\" \",\n",
    ")\n",
    "\n",
    "labels = [\"noise\"] + [str(i) for i in range(I)]\n",
    "\n",
    "plt.xticks(ticks=np.arange(I + 1), labels=labels)\n",
    "plt.xlabel(\"kernel index $i$\")\n",
    "plt.ylabel(\"relative power\")\n",
    "plt.title(\"Power distribution waterfall through VI and ground truth\")\n",
    "plt.grid(True, which=\"both\", linestyle=\"--\", linewidth=0.5)\n",
    "plt.legend(loc=\"best\")\n",
    "plt.show()\n",
    "\n",
    "# Calculate performance scores\n",
    "score = np.exp(\n",
    "    scipy.stats.entropy(true_power_distribution, inferred_power_distribution)\n",
    ")\n",
    "\n",
    "print(\n",
    "    \"Score(DKL) of inferred power distribution (lower is better, 1.0 is perfect): \",\n",
    "    score,\n",
    ")\n",
    "\n",
    "wasserstein = scipy.stats.wasserstein_distance(\n",
    "    np.arange(I + 1),\n",
    "    np.arange(I + 1),\n",
    "    true_power_distribution,\n",
    "    inferred_power_distribution,\n",
    ")  # symmetric\n",
    "\n",
    "print(\n",
    "    \"Score(Wasserstein) between true and inferred power distribution (lower is better, 0.0 is perfect): \",\n",
    "    wasserstein,\n",
    ")\n"
   ]
  },
  {
   "cell_type": "code",
   "execution_count": null,
   "metadata": {},
   "outputs": [],
   "source": [
    "from iklp.state import compute_auxiliaries\n",
    "\n",
    "aux = compute_auxiliaries(state)\n",
    "\n",
    "op = aux.Omega\n",
    "\n",
    "signal, noise = sample_parts(op, vk())\n",
    "\n",
    "plt.plot(x, label=\"x\")\n",
    "plt.plot(signal, label=\"signal\")\n",
    "plt.plot(noise, label=\"noise\")\n",
    "plt.title(\"Sampled signal and noise parts | (E(z),)\")\n",
    "plt.legend()\n"
   ]
  },
  {
   "cell_type": "code",
   "execution_count": null,
   "metadata": {},
   "outputs": [],
   "source": [
    "plt.plot(x, label=\"x\")\n",
    "plt.plot(metrics.signals.T, label=\"signal\")\n",
    "\n",
    "noises = x - metrics.signals\n",
    "\n",
    "plt.title(\"Sampled signal and noise parts | (E(z), x)\")\n",
    "plt.legend()"
   ]
  },
  {
   "cell_type": "code",
   "execution_count": null,
   "metadata": {},
   "outputs": [],
   "source": []
  }
 ],
 "metadata": {
  "kernelspec": {
   "display_name": ".venv (3.10.12)",
   "language": "python",
   "name": "python3"
  },
  "language_info": {
   "codemirror_mode": {
    "name": "ipython",
    "version": 3
   },
   "file_extension": ".py",
   "mimetype": "text/x-python",
   "name": "python",
   "nbconvert_exporter": "python",
   "pygments_lexer": "ipython3",
   "version": "3.10.12"
  }
 },
 "nbformat": 4,
 "nbformat_minor": 2
}
