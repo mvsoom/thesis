{
 "cells": [
  {
   "cell_type": "code",
   "execution_count": 2,
   "id": "20de1d93",
   "metadata": {
    "tags": [
     "parameters",
     "export"
    ]
   },
   "outputs": [],
   "source": [
    "seed = 0\n",
    "\n",
    "wav_file = (\n",
    "    \"/home/marnix/thesis/data/OPENGLOT/RepositoryI/Vowel_I/I_breathy_280Hz.wav\"\n",
    ")"
   ]
  },
  {
   "cell_type": "code",
   "execution_count": 3,
   "id": "82e52804",
   "metadata": {},
   "outputs": [
    {
     "name": "stdout",
     "output_type": "stream",
     "text": [
      "0\n"
     ]
    }
   ],
   "source": [
    "print(seed)"
   ]
  },
  {
   "cell_type": "code",
   "execution_count": 4,
   "id": "c5a29c1a",
   "metadata": {},
   "outputs": [
    {
     "name": "stdout",
     "output_type": "stream",
     "text": [
      "/home/marnix/thesis/data/OPENGLOT/RepositoryI/Vowel_I/I_breathy_280Hz.wav\n"
     ]
    }
   ],
   "source": [
    "print(wav_file)"
   ]
  },
  {
   "cell_type": "code",
   "execution_count": null,
   "id": "11d040a0",
   "metadata": {
    "tags": [
     "export"
    ]
   },
   "outputs": [
    {
     "data": {
      "text/plain": [
       "'/home/marnix/thesis/data/OPENGLOT/RepositoryI/Vowel_I/I_breathy_280Hz.wav'"
      ]
     },
     "execution_count": 5,
     "metadata": {},
     "output_type": "execute_result"
    }
   ],
   "source": [
    "a = 1\n",
    "b = 2"
   ]
  },
  {
   "cell_type": "code",
   "execution_count": null,
   "id": "4cef3381",
   "metadata": {
    "tags": [
     "export"
    ]
   },
   "outputs": [],
   "source": [
    "seed"
   ]
  }
 ],
 "metadata": {
  "kernelspec": {
   "display_name": ".venv (3.10.12)",
   "language": "python",
   "name": "python3"
  },
  "language_info": {
   "codemirror_mode": {
    "name": "ipython",
    "version": 3
   },
   "file_extension": ".py",
   "mimetype": "text/x-python",
   "name": "python",
   "nbconvert_exporter": "python",
   "pygments_lexer": "ipython3",
   "version": "3.10.12"
  }
 },
 "nbformat": 4,
 "nbformat_minor": 5
}
