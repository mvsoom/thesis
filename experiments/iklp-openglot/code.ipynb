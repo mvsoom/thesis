{
 "cells": [
  {
   "cell_type": "code",
   "execution_count": null,
   "id": "5af6e3d3",
   "metadata": {
    "execution": {
     "iopub.execute_input": "2025-08-04T00:12:52.297652Z",
     "iopub.status.busy": "2025-08-04T00:12:52.297462Z",
     "iopub.status.idle": "2025-08-04T00:12:53.441110Z",
     "shell.execute_reply": "2025-08-04T00:12:53.440618Z"
    },
    "papermill": {
     "duration": 1.147807,
     "end_time": "2025-08-04T00:12:53.442342",
     "exception": false,
     "start_time": "2025-08-04T00:12:52.294535",
     "status": "completed"
    },
    "tags": []
   },
   "outputs": [],
   "source": [
    "import math\n",
    "import os\n",
    "\n",
    "import jax\n",
    "import jax.numpy as jnp\n",
    "import numpy as np\n",
    "import soundfile as sf\n",
    "from scipy.signal import resample_poly\n",
    "\n",
    "from iklp.hyperparams import Hyperparams\n",
    "from iklp.periodic import periodic_kernel_phi\n",
    "from iklp.state import compute_expectations, init_state\n",
    "from iklp.vi import compute_elbo_bound, update_delta_a, vi_step\n",
    "from utils import top_p_indices"
   ]
  },
  {
   "cell_type": "code",
   "execution_count": null,
   "id": "20de1d93",
   "metadata": {
    "execution": {
     "iopub.execute_input": "2025-08-04T00:12:53.448659Z",
     "iopub.status.busy": "2025-08-04T00:12:53.448476Z",
     "iopub.status.idle": "2025-08-04T00:12:53.450791Z",
     "shell.execute_reply": "2025-08-04T00:12:53.450392Z"
    },
    "papermill": {
     "duration": 0.006275,
     "end_time": "2025-08-04T00:12:53.451713",
     "exception": false,
     "start_time": "2025-08-04T00:12:53.445438",
     "status": "completed"
    },
    "tags": [
     "parameters",
     "export"
    ]
   },
   "outputs": [],
   "source": [
    "seed = 0\n",
    "wav_file = (\n",
    "    os.environ[\"PROJECT_DATA_PATH\"]\n",
    "    + \"/OPENGLOT/RepositoryI/Vowel_AE/AE_whispery_280Hz.wav\"\n",
    ")"
   ]
  },
  {
   "cell_type": "code",
   "execution_count": null,
   "id": "43cca5ae",
   "metadata": {
    "tags": [
     "export"
    ]
   },
   "outputs": [],
   "source": []
  },
  {
   "cell_type": "code",
   "execution_count": 4,
   "id": "82e52804",
   "metadata": {
    "execution": {
     "iopub.execute_input": "2025-08-04T00:12:53.465608Z",
     "iopub.status.busy": "2025-08-04T00:12:53.465402Z",
     "iopub.status.idle": "2025-08-04T00:12:53.467701Z",
     "shell.execute_reply": "2025-08-04T00:12:53.467314Z"
    },
    "papermill": {
     "duration": 0.006006,
     "end_time": "2025-08-04T00:12:53.468560",
     "exception": false,
     "start_time": "2025-08-04T00:12:53.462554",
     "status": "completed"
    }
   },
   "outputs": [],
   "source": [
    "P = 9\n",
    "HOP = 160  # shift between successive windows\n",
    "\n",
    "TARGET_SR = 8000  # adjust together with FRAME_LEN\n",
    "FRAME_LEN = 1024\n",
    "\n",
    "NOISE_FLOOR_DB = -60.0  # for psd_svd\n",
    "MAX_ITER = 1000"
   ]
  },
  {
   "cell_type": "code",
   "execution_count": 5,
   "id": "c5a29c1a",
   "metadata": {
    "execution": {
     "iopub.execute_input": "2025-08-04T00:12:53.474158Z",
     "iopub.status.busy": "2025-08-04T00:12:53.474020Z",
     "iopub.status.idle": "2025-08-04T00:12:53.478232Z",
     "shell.execute_reply": "2025-08-04T00:12:53.477834Z"
    },
    "papermill": {
     "duration": 0.007967,
     "end_time": "2025-08-04T00:12:53.479119",
     "exception": false,
     "start_time": "2025-08-04T00:12:53.471152",
     "status": "completed"
    },
    "tags": []
   },
   "outputs": [],
   "source": [
    "def _mono(x: np.ndarray) -> np.ndarray:\n",
    "    \"\"\"Return mono signal (pick channel 0 if multichannel).\"\"\"\n",
    "    return x[:, 0] if x.ndim > 1 else x\n",
    "\n",
    "\n",
    "def _resample(x: np.ndarray, sr_in: int, sr_out: int) -> np.ndarray:\n",
    "    \"\"\"Band-limited polyphase resampling that preserves dtype.\"\"\"\n",
    "    if sr_in == sr_out:\n",
    "        return x\n",
    "    g = math.gcd(sr_out, sr_in)\n",
    "    up = sr_out // g\n",
    "    down = sr_in // g\n",
    "    return resample_poly(x, up, down, axis=0).astype(x.dtype)\n",
    "\n",
    "\n",
    "def _frame_signal(x: np.ndarray) -> np.ndarray:\n",
    "    \"\"\"Return a view of `x` with shape (n_frames, FRAME_LEN).\"\"\"\n",
    "    if len(x) < FRAME_LEN:\n",
    "        return np.empty((0, FRAME_LEN), x.dtype)\n",
    "    n_frames = 1 + (len(x) - FRAME_LEN) // HOP\n",
    "    return np.lib.stride_tricks.as_strided(\n",
    "        x,\n",
    "        shape=(n_frames, FRAME_LEN),\n",
    "        strides=(HOP * x.strides[0], x.strides[0]),\n",
    "        writeable=False,\n",
    "    )"
   ]
  },
  {
   "cell_type": "code",
   "execution_count": 6,
   "id": "025a0e40",
   "metadata": {
    "execution": {
     "iopub.execute_input": "2025-08-04T00:12:53.484900Z",
     "iopub.status.busy": "2025-08-04T00:12:53.484760Z",
     "iopub.status.idle": "2025-08-04T00:12:53.943854Z",
     "shell.execute_reply": "2025-08-04T00:12:53.943319Z"
    },
    "papermill": {
     "duration": 0.463403,
     "end_time": "2025-08-04T00:12:53.945148",
     "exception": false,
     "start_time": "2025-08-04T00:12:53.481745",
     "status": "completed"
    },
    "tags": []
   },
   "outputs": [],
   "source": [
    "f0, Phi = periodic_kernel_phi(\n",
    "    I=400, M=FRAME_LEN, fs=TARGET_SR, noise_floor_db=NOISE_FLOOR_DB\n",
    ")\n",
    "\n",
    "h = Hyperparams(Phi, P=P)\n",
    "\n",
    "update_delta_a = jax.jit(update_delta_a)\n",
    "vi_step = jax.jit(vi_step)\n",
    "compute_elbo_bound = jax.jit(compute_elbo_bound)\n",
    "compute_expectations = jax.jit(compute_expectations)"
   ]
  },
  {
   "cell_type": "code",
   "execution_count": 7,
   "id": "dd17850a",
   "metadata": {
    "execution": {
     "iopub.execute_input": "2025-08-04T00:12:53.952492Z",
     "iopub.status.busy": "2025-08-04T00:12:53.952096Z",
     "iopub.status.idle": "2025-08-04T00:12:53.956507Z",
     "shell.execute_reply": "2025-08-04T00:12:53.956082Z"
    },
    "papermill": {
     "duration": 0.009122,
     "end_time": "2025-08-04T00:12:53.957476",
     "exception": false,
     "start_time": "2025-08-04T00:12:53.948354",
     "status": "completed"
    },
    "tags": []
   },
   "outputs": [],
   "source": [
    "def process_frame(key, frame, h):\n",
    "    # Test (first run very slow, then fast)\n",
    "    state = init_state(key, frame, h)\n",
    "\n",
    "    # Updating q(a) = delta(a* - a) as the very first update\n",
    "    # is known to yield better convergence\n",
    "    # as it is initalized to zeroes\n",
    "    state = update_delta_a(state)\n",
    "    # TODO shift order of updates by -1 such that update_delta_a is first\n",
    "\n",
    "    score = -jnp.inf\n",
    "    criterion = 0.0001\n",
    "\n",
    "    for i in range(MAX_ITER):\n",
    "        E = compute_expectations(state)\n",
    "        print(\"Top 5 frequencies:\")\n",
    "        print([f.item() for f in f0[top_p_indices(E.theta)[:5]]])\n",
    "\n",
    "        state = vi_step(state)\n",
    "\n",
    "        lastscore = score\n",
    "        score = compute_elbo_bound(state)\n",
    "\n",
    "        if i == 0:\n",
    "            improvement = 1.0\n",
    "        else:\n",
    "            improvement = (score - lastscore) / jnp.abs(lastscore)\n",
    "\n",
    "        print(\n",
    "            \"iteration {}: bound = {:.2f} ({:+.5f} improvement)\".format(\n",
    "                i, score, improvement\n",
    "            )\n",
    "        )\n",
    "        if improvement < 0.0:\n",
    "            print(\"Diverged\")\n",
    "            break\n",
    "        if improvement < criterion:\n",
    "            print(\"Converged\")\n",
    "            break\n",
    "        if jnp.isnan(improvement) and i > 0:\n",
    "            print(\"NaN\")\n",
    "            break\n",
    "\n",
    "    return (state, score)"
   ]
  },
  {
   "cell_type": "code",
   "execution_count": 8,
   "id": "ca037a9f",
   "metadata": {
    "execution": {
     "iopub.execute_input": "2025-08-04T00:12:53.964099Z",
     "iopub.status.busy": "2025-08-04T00:12:53.963771Z",
     "iopub.status.idle": "2025-08-04T00:17:21.693905Z",
     "shell.execute_reply": "2025-08-04T00:17:21.693290Z"
    },
    "papermill": {
     "duration": 267.73458,
     "end_time": "2025-08-04T00:17:21.694870",
     "exception": false,
     "start_time": "2025-08-04T00:12:53.960290",
     "status": "completed"
    },
    "tags": []
   },
   "outputs": [
    {
     "name": "stdout",
     "output_type": "stream",
     "text": [
      "→ Loaded /home/marnix/thesis/data/OPENGLOT/RepositoryI/Vowel_AE/AE_whispery_280Hz.wav (1600 samples, 8000 Hz)\n"
     ]
    },
    {
     "name": "stdout",
     "output_type": "stream",
     "text": [
      "→ → Processing frame 1/4\n"
     ]
    },
    {
     "name": "stdout",
     "output_type": "stream",
     "text": [
      "Top 5 frequencies:\n"
     ]
    },
    {
     "name": "stdout",
     "output_type": "stream",
     "text": [
      "[333.8843265536997, 168.39854803349746, 394.47937568118846, 181.1447328527803, 329.2762017215981]\n"
     ]
    },
    {
     "name": "stdout",
     "output_type": "stream",
     "text": [
      "iteration 0: bound = -1632.05 (+1.00000 improvement)\n",
      "Top 5 frequencies:\n",
      "[274.85040715494364, 275.8070143107821, 276.7669509041138, 273.8971178888002, 277.7302285229285]\n"
     ]
    },
    {
     "name": "stdout",
     "output_type": "stream",
     "text": [
      "iteration 1: bound = -1190.40 (+0.27061 improvement)\n",
      "Top 5 frequencies:\n",
      "[275.8070143107821, 274.85040715494364, 276.7669509041138, 273.8971178888002, 277.7302285229285]\n"
     ]
    },
    {
     "name": "stdout",
     "output_type": "stream",
     "text": [
      "iteration 2: bound = -848.77 (+0.28698 improvement)\n",
      "Top 5 frequencies:\n",
      "[275.8070143107821, 274.85040715494364, 276.7669509041138, 273.8971178888002, 277.7302285229285]\n"
     ]
    },
    {
     "name": "stdout",
     "output_type": "stream",
     "text": [
      "iteration 3: bound = -506.61 (+0.40313 improvement)\n",
      "Top 5 frequencies:\n",
      "[275.8070143107821, 276.7669509041138, 274.85040715494364, 277.7302285229285, 273.8971178888002]\n"
     ]
    },
    {
     "name": "stdout",
     "output_type": "stream",
     "text": [
      "iteration 4: bound = -79.03 (+0.84400 improvement)\n",
      "Top 5 frequencies:\n",
      "[275.8070143107821, 276.7669509041138, 274.85040715494364, 277.7302285229285, 273.8971178888002]\n"
     ]
    },
    {
     "name": "stdout",
     "output_type": "stream",
     "text": [
      "iteration 5: bound = 288.54 (+4.65093 improvement)\n",
      "Top 5 frequencies:\n"
     ]
    },
    {
     "name": "stdout",
     "output_type": "stream",
     "text": [
      "[275.8070143107821, 276.7669509041138, 274.85040715494364]\n"
     ]
    },
    {
     "name": "stdout",
     "output_type": "stream",
     "text": [
      "iteration 6: bound = 647.62 (+1.24446 improvement)\n",
      "Top 5 frequencies:\n",
      "[275.8070143107821, 276.7669509041138, 274.85040715494364]\n"
     ]
    },
    {
     "name": "stdout",
     "output_type": "stream",
     "text": [
      "iteration 7: bound = 782.04 (+0.20755 improvement)\n",
      "Top 5 frequencies:\n"
     ]
    },
    {
     "name": "stdout",
     "output_type": "stream",
     "text": [
      "[275.8070143107821, 276.7669509041138]\n"
     ]
    },
    {
     "name": "stdout",
     "output_type": "stream",
     "text": [
      "iteration 8: bound = 822.28 (+0.05146 improvement)\n",
      "Top 5 frequencies:\n",
      "[275.8070143107821, 276.7669509041138]\n"
     ]
    },
    {
     "name": "stdout",
     "output_type": "stream",
     "text": [
      "iteration 9: bound = 836.50 (+0.01729 improvement)\n",
      "Top 5 frequencies:\n"
     ]
    },
    {
     "name": "stdout",
     "output_type": "stream",
     "text": [
      "[275.8070143107821]\n"
     ]
    },
    {
     "name": "stdout",
     "output_type": "stream",
     "text": [
      "iteration 10: bound = 844.76 (+0.00987 improvement)\n",
      "Top 5 frequencies:\n",
      "[275.8070143107821]\n"
     ]
    },
    {
     "name": "stdout",
     "output_type": "stream",
     "text": [
      "iteration 11: bound = 850.16 (+0.00640 improvement)\n",
      "Top 5 frequencies:\n",
      "[275.8070143107821]\n"
     ]
    },
    {
     "name": "stdout",
     "output_type": "stream",
     "text": [
      "iteration 12: bound = 854.00 (+0.00451 improvement)\n",
      "Top 5 frequencies:\n",
      "[275.8070143107821]\n"
     ]
    },
    {
     "name": "stdout",
     "output_type": "stream",
     "text": [
      "iteration 13: bound = 856.85 (+0.00334 improvement)\n",
      "Top 5 frequencies:\n",
      "[275.8070143107821]\n"
     ]
    },
    {
     "name": "stdout",
     "output_type": "stream",
     "text": [
      "iteration 14: bound = 859.04 (+0.00255 improvement)\n",
      "Top 5 frequencies:\n",
      "[275.8070143107821]\n"
     ]
    },
    {
     "name": "stdout",
     "output_type": "stream",
     "text": [
      "iteration 15: bound = 860.49 (+0.00170 improvement)\n",
      "Top 5 frequencies:\n",
      "[275.8070143107821]\n"
     ]
    },
    {
     "name": "stdout",
     "output_type": "stream",
     "text": [
      "iteration 16: bound = 861.86 (+0.00159 improvement)\n",
      "Top 5 frequencies:\n",
      "[275.8070143107821]\n"
     ]
    },
    {
     "name": "stdout",
     "output_type": "stream",
     "text": [
      "iteration 17: bound = 863.12 (+0.00146 improvement)\n",
      "Top 5 frequencies:\n",
      "[275.8070143107821]\n"
     ]
    },
    {
     "name": "stdout",
     "output_type": "stream",
     "text": [
      "iteration 18: bound = 864.49 (+0.00158 improvement)\n",
      "Top 5 frequencies:\n",
      "[275.8070143107821]\n"
     ]
    },
    {
     "name": "stdout",
     "output_type": "stream",
     "text": [
      "iteration 19: bound = 865.09 (+0.00070 improvement)\n",
      "Top 5 frequencies:\n",
      "[275.8070143107821]\n"
     ]
    },
    {
     "name": "stdout",
     "output_type": "stream",
     "text": [
      "iteration 20: bound = 865.83 (+0.00085 improvement)\n",
      "Top 5 frequencies:\n",
      "[275.8070143107821]\n"
     ]
    },
    {
     "name": "stdout",
     "output_type": "stream",
     "text": [
      "iteration 21: bound = 865.90 (+0.00008 improvement)\n",
      "Converged\n",
      "→ → Processing frame 2/4\n",
      "Top 5 frequencies:\n",
      "[373.1483672397354, 288.55014483129264, 369.2791426071818, 100.6973043151032, 103.8958367498952]\n"
     ]
    },
    {
     "name": "stdout",
     "output_type": "stream",
     "text": [
      "iteration 0: bound = -1630.66 (+1.00000 improvement)\n",
      "Top 5 frequencies:\n",
      "[276.7669509041138, 275.8070143107821, 274.85040715494364, 273.8971178888002, 277.7302285229285]\n"
     ]
    },
    {
     "name": "stdout",
     "output_type": "stream",
     "text": [
      "iteration 1: bound = -1194.82 (+0.26728 improvement)\n",
      "Top 5 frequencies:\n",
      "[275.8070143107821, 276.7669509041138, 274.85040715494364, 273.8971178888002, 277.7302285229285]\n"
     ]
    },
    {
     "name": "stdout",
     "output_type": "stream",
     "text": [
      "iteration 2: bound = -852.29 (+0.28668 improvement)\n",
      "Top 5 frequencies:\n",
      "[275.8070143107821, 276.7669509041138, 274.85040715494364, 273.8971178888002, 277.7302285229285]\n"
     ]
    },
    {
     "name": "stdout",
     "output_type": "stream",
     "text": [
      "iteration 3: bound = -492.96 (+0.42161 improvement)\n",
      "Top 5 frequencies:\n",
      "[275.8070143107821, 276.7669509041138, 274.85040715494364, 273.8971178888002, 277.7302285229285]\n"
     ]
    },
    {
     "name": "stdout",
     "output_type": "stream",
     "text": [
      "iteration 4: bound = -44.79 (+0.90914 improvement)\n",
      "Top 5 frequencies:\n",
      "[275.8070143107821, 276.7669509041138, 274.85040715494364, 273.8971178888002, 277.7302285229285]\n"
     ]
    },
    {
     "name": "stdout",
     "output_type": "stream",
     "text": [
      "iteration 5: bound = 341.29 (+8.61993 improvement)\n",
      "Top 5 frequencies:\n",
      "[275.8070143107821, 276.7669509041138, 274.85040715494364]\n"
     ]
    },
    {
     "name": "stdout",
     "output_type": "stream",
     "text": [
      "iteration 6: bound = 725.40 (+1.12546 improvement)\n",
      "Top 5 frequencies:\n",
      "[275.8070143107821, 276.7669509041138, 274.85040715494364]\n"
     ]
    },
    {
     "name": "stdout",
     "output_type": "stream",
     "text": [
      "iteration 7: bound = 876.81 (+0.20874 improvement)\n",
      "Top 5 frequencies:\n",
      "[275.8070143107821, 276.7669509041138]\n"
     ]
    },
    {
     "name": "stdout",
     "output_type": "stream",
     "text": [
      "iteration 8: bound = 930.72 (+0.06148 improvement)\n",
      "Top 5 frequencies:\n",
      "[275.8070143107821, 276.7669509041138]\n"
     ]
    },
    {
     "name": "stdout",
     "output_type": "stream",
     "text": [
      "iteration 9: bound = 950.45 (+0.02121 improvement)\n",
      "Top 5 frequencies:\n",
      "[275.8070143107821]\n"
     ]
    },
    {
     "name": "stdout",
     "output_type": "stream",
     "text": [
      "iteration 10: bound = 960.55 (+0.01063 improvement)\n",
      "Top 5 frequencies:\n",
      "[275.8070143107821]\n"
     ]
    },
    {
     "name": "stdout",
     "output_type": "stream",
     "text": [
      "iteration 11: bound = 967.24 (+0.00696 improvement)\n",
      "Top 5 frequencies:\n",
      "[275.8070143107821]\n"
     ]
    },
    {
     "name": "stdout",
     "output_type": "stream",
     "text": [
      "iteration 12: bound = 971.02 (+0.00391 improvement)\n",
      "Top 5 frequencies:\n",
      "[275.8070143107821]\n"
     ]
    },
    {
     "name": "stdout",
     "output_type": "stream",
     "text": [
      "iteration 13: bound = 974.17 (+0.00324 improvement)\n",
      "Top 5 frequencies:\n",
      "[275.8070143107821]\n"
     ]
    },
    {
     "name": "stdout",
     "output_type": "stream",
     "text": [
      "iteration 14: bound = 975.74 (+0.00161 improvement)\n",
      "Top 5 frequencies:\n",
      "[275.8070143107821]\n"
     ]
    },
    {
     "name": "stdout",
     "output_type": "stream",
     "text": [
      "iteration 15: bound = 977.09 (+0.00138 improvement)\n",
      "Top 5 frequencies:\n",
      "[275.8070143107821]\n"
     ]
    },
    {
     "name": "stdout",
     "output_type": "stream",
     "text": [
      "iteration 16: bound = 977.86 (+0.00079 improvement)\n",
      "Top 5 frequencies:\n",
      "[275.8070143107821]\n"
     ]
    },
    {
     "name": "stdout",
     "output_type": "stream",
     "text": [
      "iteration 17: bound = 978.02 (+0.00016 improvement)\n",
      "Top 5 frequencies:\n",
      "[275.8070143107821]\n"
     ]
    },
    {
     "name": "stdout",
     "output_type": "stream",
     "text": [
      "iteration 18: bound = 978.14 (+0.00012 improvement)\n",
      "Top 5 frequencies:\n",
      "[275.8070143107821]\n"
     ]
    },
    {
     "name": "stdout",
     "output_type": "stream",
     "text": [
      "iteration 19: bound = 978.24 (+0.00011 improvement)\n",
      "Top 5 frequencies:\n",
      "[275.8070143107821]\n"
     ]
    },
    {
     "name": "stdout",
     "output_type": "stream",
     "text": [
      "iteration 20: bound = 978.34 (+0.00010 improvement)\n",
      "Converged\n",
      "→ → Processing frame 3/4\n",
      "Top 5 frequencies:\n",
      "[124.46925894640206, 164.9243605518992, 199.6528594197459, 251.9842099789724, 135.7641675347337]\n"
     ]
    },
    {
     "name": "stdout",
     "output_type": "stream",
     "text": [
      "iteration 0: bound = -1603.04 (+1.00000 improvement)\n",
      "Top 5 frequencies:\n",
      "[275.8070143107821, 274.85040715494364, 276.7669509041138, 272.94713500460597, 273.8971178888002]\n"
     ]
    },
    {
     "name": "stdout",
     "output_type": "stream",
     "text": [
      "iteration 1: bound = -1172.20 (+0.26877 improvement)\n",
      "Top 5 frequencies:\n",
      "[275.8070143107821, 274.85040715494364, 276.7669509041138, 273.8971178888002, 277.7302285229285]\n"
     ]
    },
    {
     "name": "stdout",
     "output_type": "stream",
     "text": [
      "iteration 2: bound = -828.64 (+0.29309 improvement)\n",
      "Top 5 frequencies:\n",
      "[275.8070143107821, 274.85040715494364, 276.7669509041138, 277.7302285229285, 273.8971178888002]\n"
     ]
    },
    {
     "name": "stdout",
     "output_type": "stream",
     "text": [
      "iteration 3: bound = -459.77 (+0.44515 improvement)\n",
      "Top 5 frequencies:\n",
      "[275.8070143107821, 274.85040715494364, 276.7669509041138, 277.7302285229285, 273.8971178888002]\n"
     ]
    },
    {
     "name": "stdout",
     "output_type": "stream",
     "text": [
      "iteration 4: bound = -4.12 (+0.99105 improvement)\n",
      "Top 5 frequencies:\n",
      "[275.8070143107821, 276.7669509041138, 274.85040715494364, 277.7302285229285, 273.8971178888002]\n"
     ]
    },
    {
     "name": "stdout",
     "output_type": "stream",
     "text": [
      "iteration 5: bound = 407.86 (+100.08177 improvement)\n",
      "Top 5 frequencies:\n",
      "[275.8070143107821, 276.7669509041138, 274.85040715494364]\n"
     ]
    },
    {
     "name": "stdout",
     "output_type": "stream",
     "text": [
      "iteration 6: bound = 831.21 (+1.03798 improvement)\n",
      "Top 5 frequencies:\n",
      "[275.8070143107821, 276.7669509041138, 274.85040715494364]\n"
     ]
    },
    {
     "name": "stdout",
     "output_type": "stream",
     "text": [
      "iteration 7: bound = 1018.52 (+0.22534 improvement)\n",
      "Top 5 frequencies:\n",
      "[275.8070143107821, 276.7669509041138]\n"
     ]
    },
    {
     "name": "stdout",
     "output_type": "stream",
     "text": [
      "iteration 8: bound = 1081.19 (+0.06153 improvement)\n",
      "Top 5 frequencies:\n",
      "[275.8070143107821]\n"
     ]
    },
    {
     "name": "stdout",
     "output_type": "stream",
     "text": [
      "iteration 9: bound = 1104.68 (+0.02172 improvement)\n",
      "Top 5 frequencies:\n",
      "[275.8070143107821]\n"
     ]
    },
    {
     "name": "stdout",
     "output_type": "stream",
     "text": [
      "iteration 10: bound = 1115.02 (+0.00936 improvement)\n",
      "Top 5 frequencies:\n",
      "[275.8070143107821]\n"
     ]
    },
    {
     "name": "stdout",
     "output_type": "stream",
     "text": [
      "iteration 11: bound = 1121.17 (+0.00552 improvement)\n",
      "Top 5 frequencies:\n",
      "[275.8070143107821]\n"
     ]
    },
    {
     "name": "stdout",
     "output_type": "stream",
     "text": [
      "iteration 12: bound = 1125.22 (+0.00361 improvement)\n",
      "Top 5 frequencies:\n",
      "[275.8070143107821]\n"
     ]
    },
    {
     "name": "stdout",
     "output_type": "stream",
     "text": [
      "iteration 13: bound = 1128.03 (+0.00250 improvement)\n",
      "Top 5 frequencies:\n",
      "[275.8070143107821]\n"
     ]
    },
    {
     "name": "stdout",
     "output_type": "stream",
     "text": [
      "iteration 14: bound = 1129.98 (+0.00174 improvement)\n",
      "Top 5 frequencies:\n",
      "[275.8070143107821]\n"
     ]
    },
    {
     "name": "stdout",
     "output_type": "stream",
     "text": [
      "iteration 15: bound = 1131.22 (+0.00109 improvement)\n",
      "Top 5 frequencies:\n",
      "[275.8070143107821]\n"
     ]
    },
    {
     "name": "stdout",
     "output_type": "stream",
     "text": [
      "iteration 16: bound = 1131.83 (+0.00054 improvement)\n",
      "Top 5 frequencies:\n",
      "[275.8070143107821]\n"
     ]
    },
    {
     "name": "stdout",
     "output_type": "stream",
     "text": [
      "iteration 17: bound = 1132.51 (+0.00060 improvement)\n",
      "Top 5 frequencies:\n",
      "[275.8070143107821]\n"
     ]
    },
    {
     "name": "stdout",
     "output_type": "stream",
     "text": [
      "iteration 18: bound = 1132.55 (+0.00004 improvement)\n",
      "Converged\n",
      "→ → Processing frame 4/4\n",
      "Top 5 frequencies:\n",
      "[132.96325163132013, 288.55014483129264, 257.29234265834015, 183.04272702993012, 332.72628444660637]\n"
     ]
    },
    {
     "name": "stdout",
     "output_type": "stream",
     "text": [
      "iteration 0: bound = -1651.91 (+1.00000 improvement)\n",
      "Top 5 frequencies:\n",
      "[275.8070143107821, 274.85040715494364, 276.7669509041138, 273.8971178888002, 278.6968587955477]\n"
     ]
    },
    {
     "name": "stdout",
     "output_type": "stream",
     "text": [
      "iteration 1: bound = -1189.40 (+0.27998 improvement)\n",
      "Top 5 frequencies:\n",
      "[275.8070143107821, 276.7669509041138, 274.85040715494364, 273.8971178888002, 277.7302285229285]\n"
     ]
    },
    {
     "name": "stdout",
     "output_type": "stream",
     "text": [
      "iteration 2: bound = -835.55 (+0.29750 improvement)\n",
      "Top 5 frequencies:\n",
      "[275.8070143107821, 276.7669509041138, 274.85040715494364, 273.8971178888002, 277.7302285229285]\n"
     ]
    },
    {
     "name": "stdout",
     "output_type": "stream",
     "text": [
      "iteration 3: bound = -483.40 (+0.42146 improvement)\n",
      "Top 5 frequencies:\n",
      "[275.8070143107821, 276.7669509041138, 274.85040715494364, 273.8971178888002, 277.7302285229285]\n"
     ]
    },
    {
     "name": "stdout",
     "output_type": "stream",
     "text": [
      "iteration 4: bound = -41.07 (+0.91504 improvement)\n",
      "Top 5 frequencies:\n",
      "[275.8070143107821, 276.7669509041138, 274.85040715494364, 273.8971178888002, 277.7302285229285]\n"
     ]
    },
    {
     "name": "stdout",
     "output_type": "stream",
     "text": [
      "iteration 5: bound = 334.31 (+9.14028 improvement)\n",
      "Top 5 frequencies:\n",
      "[275.8070143107821, 276.7669509041138, 274.85040715494364]\n"
     ]
    },
    {
     "name": "stdout",
     "output_type": "stream",
     "text": [
      "iteration 6: bound = 704.31 (+1.10675 improvement)\n",
      "Top 5 frequencies:\n",
      "[275.8070143107821, 276.7669509041138, 274.85040715494364]\n"
     ]
    },
    {
     "name": "stdout",
     "output_type": "stream",
     "text": [
      "iteration 7: bound = 851.09 (+0.20841 improvement)\n",
      "Top 5 frequencies:\n",
      "[275.8070143107821, 276.7669509041138]\n"
     ]
    },
    {
     "name": "stdout",
     "output_type": "stream",
     "text": [
      "iteration 8: bound = 907.24 (+0.06597 improvement)\n",
      "Top 5 frequencies:\n",
      "[275.8070143107821]\n"
     ]
    },
    {
     "name": "stdout",
     "output_type": "stream",
     "text": [
      "iteration 9: bound = 926.84 (+0.02161 improvement)\n",
      "Top 5 frequencies:\n",
      "[275.8070143107821]\n"
     ]
    },
    {
     "name": "stdout",
     "output_type": "stream",
     "text": [
      "iteration 10: bound = 937.84 (+0.01187 improvement)\n",
      "Top 5 frequencies:\n",
      "[275.8070143107821]\n"
     ]
    },
    {
     "name": "stdout",
     "output_type": "stream",
     "text": [
      "iteration 11: bound = 944.63 (+0.00724 improvement)\n",
      "Top 5 frequencies:\n",
      "[275.8070143107821]\n"
     ]
    },
    {
     "name": "stdout",
     "output_type": "stream",
     "text": [
      "iteration 12: bound = 948.46 (+0.00406 improvement)\n",
      "Top 5 frequencies:\n",
      "[275.8070143107821]\n"
     ]
    },
    {
     "name": "stdout",
     "output_type": "stream",
     "text": [
      "iteration 13: bound = 951.65 (+0.00336 improvement)\n",
      "Top 5 frequencies:\n",
      "[275.8070143107821]\n"
     ]
    },
    {
     "name": "stdout",
     "output_type": "stream",
     "text": [
      "iteration 14: bound = 953.15 (+0.00157 improvement)\n",
      "Top 5 frequencies:\n",
      "[275.8070143107821]\n"
     ]
    },
    {
     "name": "stdout",
     "output_type": "stream",
     "text": [
      "iteration 15: bound = 954.66 (+0.00159 improvement)\n",
      "Top 5 frequencies:\n",
      "[275.8070143107821]\n"
     ]
    },
    {
     "name": "stdout",
     "output_type": "stream",
     "text": [
      "iteration 16: bound = 954.86 (+0.00020 improvement)\n",
      "Top 5 frequencies:\n",
      "[275.8070143107821]\n"
     ]
    },
    {
     "name": "stdout",
     "output_type": "stream",
     "text": [
      "iteration 17: bound = 955.00 (+0.00015 improvement)\n",
      "Top 5 frequencies:\n",
      "[275.8070143107821]\n"
     ]
    },
    {
     "name": "stdout",
     "output_type": "stream",
     "text": [
      "iteration 18: bound = 955.12 (+0.00012 improvement)\n",
      "Top 5 frequencies:\n",
      "[275.8070143107821]\n"
     ]
    },
    {
     "name": "stdout",
     "output_type": "stream",
     "text": [
      "iteration 19: bound = 955.23 (+0.00012 improvement)\n",
      "Top 5 frequencies:\n",
      "[275.8070143107821]\n"
     ]
    },
    {
     "name": "stdout",
     "output_type": "stream",
     "text": [
      "iteration 20: bound = 955.34 (+0.00012 improvement)\n",
      "Top 5 frequencies:\n",
      "[275.8070143107821]\n"
     ]
    },
    {
     "name": "stdout",
     "output_type": "stream",
     "text": [
      "iteration 21: bound = 955.47 (+0.00013 improvement)\n",
      "Top 5 frequencies:\n",
      "[275.8070143107821]\n"
     ]
    },
    {
     "name": "stdout",
     "output_type": "stream",
     "text": [
      "iteration 22: bound = 955.61 (+0.00015 improvement)\n",
      "Top 5 frequencies:\n",
      "[275.8070143107821]\n"
     ]
    },
    {
     "name": "stdout",
     "output_type": "stream",
     "text": [
      "iteration 23: bound = 955.78 (+0.00018 improvement)\n",
      "Top 5 frequencies:\n",
      "[275.8070143107821]\n"
     ]
    },
    {
     "name": "stdout",
     "output_type": "stream",
     "text": [
      "iteration 24: bound = 955.98 (+0.00021 improvement)\n",
      "Top 5 frequencies:\n",
      "[275.8070143107821]\n"
     ]
    },
    {
     "name": "stdout",
     "output_type": "stream",
     "text": [
      "iteration 25: bound = 956.23 (+0.00026 improvement)\n",
      "Top 5 frequencies:\n",
      "[275.8070143107821]\n"
     ]
    },
    {
     "name": "stdout",
     "output_type": "stream",
     "text": [
      "iteration 26: bound = 956.54 (+0.00032 improvement)\n",
      "Top 5 frequencies:\n",
      "[275.8070143107821]\n"
     ]
    },
    {
     "name": "stdout",
     "output_type": "stream",
     "text": [
      "iteration 27: bound = 956.91 (+0.00039 improvement)\n",
      "Top 5 frequencies:\n",
      "[275.8070143107821]\n"
     ]
    },
    {
     "name": "stdout",
     "output_type": "stream",
     "text": [
      "iteration 28: bound = 957.34 (+0.00045 improvement)\n",
      "Top 5 frequencies:\n",
      "[275.8070143107821]\n"
     ]
    },
    {
     "name": "stdout",
     "output_type": "stream",
     "text": [
      "iteration 29: bound = 957.82 (+0.00050 improvement)\n",
      "Top 5 frequencies:\n",
      "[275.8070143107821]\n"
     ]
    },
    {
     "name": "stdout",
     "output_type": "stream",
     "text": [
      "iteration 30: bound = 958.34 (+0.00055 improvement)\n",
      "Top 5 frequencies:\n",
      "[275.8070143107821]\n"
     ]
    },
    {
     "name": "stdout",
     "output_type": "stream",
     "text": [
      "iteration 31: bound = 958.90 (+0.00058 improvement)\n",
      "Top 5 frequencies:\n",
      "[275.8070143107821]\n"
     ]
    },
    {
     "name": "stdout",
     "output_type": "stream",
     "text": [
      "iteration 32: bound = 959.46 (+0.00058 improvement)\n",
      "Top 5 frequencies:\n",
      "[275.8070143107821]\n"
     ]
    },
    {
     "name": "stdout",
     "output_type": "stream",
     "text": [
      "iteration 33: bound = 959.98 (+0.00054 improvement)\n",
      "Top 5 frequencies:\n",
      "[275.8070143107821]\n"
     ]
    },
    {
     "name": "stdout",
     "output_type": "stream",
     "text": [
      "iteration 34: bound = 960.79 (+0.00084 improvement)\n",
      "Top 5 frequencies:\n",
      "[275.8070143107821]\n"
     ]
    },
    {
     "name": "stdout",
     "output_type": "stream",
     "text": [
      "iteration 35: bound = 960.79 (+0.00000 improvement)\n",
      "Converged\n"
     ]
    }
   ],
   "source": [
    "audio, sr_in = sf.read(wav_file, always_2d=False, dtype=\"float64\")\n",
    "audio = _mono(audio)\n",
    "audio = _resample(audio, sr_in, TARGET_SR)\n",
    "\n",
    "# Normalize to unit power\n",
    "audio = audio / np.sqrt(np.mean(audio**2))\n",
    "\n",
    "print(f\"→ Loaded {wav_file} ({len(audio)} samples, {sr_in} Hz)\")\n",
    "\n",
    "frames = _frame_signal(audio)\n",
    "results = []\n",
    "\n",
    "master_key = jax.random.PRNGKey(seed)\n",
    "keys = jax.random.split(master_key, len(frames))\n",
    "\n",
    "for key, frame in zip(keys, frames):\n",
    "    print(f\"→ → Processing frame {len(results) + 1}/{len(frames)}\")\n",
    "    # Add to the results also information about which frame was processed\n",
    "    result = {\n",
    "        \"frame_index\": len(results),\n",
    "        \"frame\": frame,\n",
    "    }\n",
    "    result[\"state\"], result[\"score\"] = process_frame(key, frame, h)\n",
    "    results.append(result)"
   ]
  },
  {
   "cell_type": "code",
   "execution_count": 9,
   "id": "42a0b072",
   "metadata": {
    "execution": {
     "iopub.execute_input": "2025-08-04T00:17:21.712891Z",
     "iopub.status.busy": "2025-08-04T00:17:21.712433Z",
     "iopub.status.idle": "2025-08-04T00:17:21.868523Z",
     "shell.execute_reply": "2025-08-04T00:17:21.867982Z"
    },
    "papermill": {
     "duration": 0.165865,
     "end_time": "2025-08-04T00:17:21.869411",
     "exception": false,
     "start_time": "2025-08-04T00:17:21.703546",
     "status": "completed"
    },
    "tags": []
   },
   "outputs": [
    {
     "data": {
      "image/png": "[encoded data removed]",
      "text/plain": [
       "<Figure size 640x480 with 1 Axes>"
      ]
     },
     "metadata": {},
     "output_type": "display_data"
    }
   ],
   "source": [
    "from matplotlib import pyplot as plt\n",
    "\n",
    "plt.plot(audio)\n",
    "plt.title(\"Audio signal\");"
   ]
  }
 ],
 "metadata": {
  "kernelspec": {
   "display_name": ".venv (3.10.12)",
   "language": "python",
   "name": "python3"
  },
  "language_info": {
   "codemirror_mode": {
    "name": "ipython",
    "version": 3
   },
   "file_extension": ".py",
   "mimetype": "text/x-python",
   "name": "python",
   "nbconvert_exporter": "python",
   "pygments_lexer": "ipython3",
   "version": "3.10.12"
  },
  "papermill": {
   "default_parameters": {},
   "duration": 271.888201,
   "end_time": "2025-08-04T00:17:23.528934",
   "environment_variables": {},
   "exception": null,
   "input_path": "experiments/iklp-openglot-test/runs/000001.ipynb",
   "output_path": "experiments/iklp-openglot-test/runs/000001.ipynb",
   "parameters": {
    "seed": 1962367779,
    "wav_file": "/home/marnix/thesis/data/OPENGLOT/RepositoryI/Vowel_AE/AE_whispery_280Hz.wav"
   },
   "start_time": "2025-08-04T00:12:51.640733",
   "version": "2.6.0"
  }
 },
 "nbformat": 4,
 "nbformat_minor": 5
}
