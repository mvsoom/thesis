{
 "cells": [
  {
   "cell_type": "code",
   "execution_count": null,
   "id": "20de1d93",
   "metadata": {
    "tags": [
     "parameters"
    ]
   },
   "outputs": [],
   "source": [
    "seed = 0\n",
    "\n",
    "wav_file = (\n",
    "    \"/home/marnix/thesis/data/OPENGLOT/RepositoryI/Vowel_I/I_breathy_280Hz.wav\"\n",
    ")"
   ]
  },
  {
   "cell_type": "code",
   "execution_count": 3,
   "id": "82e52804",
   "metadata": {},
   "outputs": [
    {
     "name": "stdout",
     "output_type": "stream",
     "text": [
      "0\n"
     ]
    }
   ],
   "source": [
    "print(seed)"
   ]
  },
  {
   "cell_type": "code",
   "execution_count": null,
   "id": "c5a29c1a",
   "metadata": {},
   "outputs": [],
   "source": [
    "print(wav_file)"
   ]
  },
  {
   "cell_type": "code",
   "execution_count": 5,
   "id": "11d040a0",
   "metadata": {},
   "outputs": [
    {
     "data": {
      "application/scrapbook.scrap.json+json": {
       "data": 0,
       "encoder": "json",
       "name": "seed",
       "version": 1
      }
     },
     "metadata": {
      "scrapbook": {
       "data": true,
       "display": false,
       "name": "seed"
      }
     },
     "output_type": "display_data"
    },
    {
     "data": {
      "application/scrapbook.scrap.text+json": {
       "data": "/home/marnix/thesis/data/OPENGLOT/RepositoryI/Vowel_I/I_breathy_280Hz.wav",
       "encoder": "text",
       "name": "wav_file",
       "version": 1
      }
     },
     "metadata": {
      "scrapbook": {
       "data": true,
       "display": false,
       "name": "wav_file"
      }
     },
     "output_type": "display_data"
    }
   ],
   "source": [
    "import scrapbook as sb\n",
    "\n",
    "sb.glue(\"seed\", seed)\n",
    "sb.glue(\"wav_file\", wav_file)"
   ]
  },
  {
   "cell_type": "code",
   "execution_count": null,
   "id": "4cef3381",
   "metadata": {},
   "outputs": [],
   "source": []
  }
 ],
 "metadata": {
  "kernelspec": {
   "display_name": ".venv (3.10.12)",
   "language": "python",
   "name": "python3"
  },
  "language_info": {
   "codemirror_mode": {
    "name": "ipython",
    "version": 3
   },
   "file_extension": ".py",
   "mimetype": "text/x-python",
   "name": "python",
   "nbconvert_exporter": "python",
   "pygments_lexer": "ipython3",
   "version": "3.10.12"
  }
 },
 "nbformat": 4,
 "nbformat_minor": 5
}
