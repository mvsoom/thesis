{
 "cells": [
  {
   "cell_type": "code",
   "execution_count": null,
   "metadata": {
    "tags": [
     "parameters",
     "export"
    ]
   },
   "outputs": [],
   "source": [
    "# parameters, export\n",
    "seed = 0\n",
    "\n",
    "jax_enable_x64 = False\n",
    "r = 10\n",
    "beta = 0.0\n",
    "alpha_scale = 1.0\n",
    "prior_pi = 0.95\n",
    "ell = 0.5"
   ]
  },
  {
   "cell_type": "code",
   "execution_count": null,
   "metadata": {},
   "outputs": [],
   "source": [
    "import jax\n",
    "\n",
    "jax.config.update(\"jax_log_compiles\", False)\n",
    "jax.config.update(\"jax_enable_x64\", jax_enable_x64)\n",
    "\n",
    "master_key = jax.random.PRNGKey(seed)"
   ]
  },
  {
   "cell_type": "code",
   "execution_count": null,
   "metadata": {},
   "outputs": [],
   "source": [
    "import jax.numpy as jnp\n",
    "\n",
    "from iklp.hyperparams import (\n",
    "    ARPrior,\n",
    "    pi_kappa_hyperparameters,\n",
    "    solve_for_alpha,\n",
    ")\n",
    "from iklp.mercer import psd_svd_fixed\n",
    "from utils.jax import maybe32\n",
    "from utils.openglot import OpenGlotI\n",
    "from utils.audio import frame_signal\n",
    "from iklp.mercer_op import backend\n",
    "from utils import time_this\n",
    "from iklp.run import vi_run_criterion_batched\n",
    "\n",
    "from tqdm import tqdm\n",
    "import numpy as np\n"
   ]
  },
  {
   "cell_type": "code",
   "execution_count": null,
   "metadata": {},
   "outputs": [],
   "source": [
    "P = 9\n",
    "f0 = np.arange(100, 360 + 1, 10)\n",
    "I = len(f0)\n",
    "\n",
    "target_fs = 8000\n",
    "M = 1024  # frame length\n",
    "hop = 80\n",
    "\n",
    "max_vi_iter = 50\n",
    "batch_size = 128 if jax_enable_x64 else 256"
   ]
  },
  {
   "cell_type": "code",
   "execution_count": null,
   "metadata": {},
   "outputs": [],
   "source": [
    "dt = 1.0 / target_fs\n",
    "t = np.arange(M) * dt\n",
    "tau = t[:, None] - t[None, :]\n",
    "T = (1 / f0)[:, None, None]\n",
    "K = np.exp(-2 * (np.sin(np.pi * tau / T)) ** 2 / (ell**2))  # (I, M, M)\n",
    "Phi, energy = psd_svd_fixed(K, rank=r)\n",
    "\n",
    "print(f\"Energy captured at rank={r}:\", energy)"
   ]
  },
  {
   "cell_type": "code",
   "execution_count": null,
   "metadata": {},
   "outputs": [],
   "source": [
    "arprior = ARPrior.yoshii_lambda(P)\n"
   ]
  },
  {
   "cell_type": "code",
   "execution_count": null,
   "metadata": {},
   "outputs": [],
   "source": [
    "alpha = solve_for_alpha(I) * alpha_scale\n",
    "kappa = 1.0\n",
    "\n",
    "h = pi_kappa_hyperparameters(\n",
    "    maybe32(Phi),\n",
    "    pi=maybe32(prior_pi),\n",
    "    kappa=maybe32(kappa),\n",
    "    alpha=maybe32(alpha),\n",
    "    arprior=arprior,\n",
    "    num_metrics_samples=1,\n",
    "    num_vi_iters=max_vi_iter,\n",
    "    beta=maybe32(beta),\n",
    ")\n",
    "\n",
    "del K, Phi\n",
    "\n",
    "print(\"Phi shape:\", h.Phi.shape)  # (I, M, r)\n",
    "print(\"Phi dtype:\", h.Phi.dtype)\n",
    "print(\"Mercer operator backend:\", backend(h))"
   ]
  },
  {
   "cell_type": "code",
   "execution_count": null,
   "metadata": {},
   "outputs": [],
   "source": [
    "def all_runs(verbose=False):\n",
    "    for wav_file in tqdm(OpenGlotI.wav_files()):\n",
    "        vowel, modality, true_pitch = OpenGlotI.parse_wav(wav_file)\n",
    "        true_formants = OpenGlotI.true_resonance_frequencies[vowel]\n",
    "        x_full, gf_full, original_fs = OpenGlotI.read_wav(\n",
    "            wav_file, target_fs, verbose=verbose\n",
    "        )\n",
    "\n",
    "        x_frames = frame_signal(x_full, M, hop)  # ((n_frames, frame_len)\n",
    "        gf_frames = frame_signal(gf_full, M, hop)\n",
    "\n",
    "        x_frames = maybe32(x_frames)\n",
    "        gf_frames = maybe32(gf_frames)\n",
    "\n",
    "        for frame_index, (x, gf) in enumerate(zip(x_frames, gf_frames)):\n",
    "            for restart_index in range(h.num_vi_restarts):\n",
    "                yield {\n",
    "                    \"wav_file\": wav_file,\n",
    "                    \"original_fs\": original_fs,\n",
    "                    \"target_fs\": target_fs,\n",
    "                    \"vowel\": vowel,\n",
    "                    \"modality\": modality,\n",
    "                    \"true_pitch\": true_pitch,\n",
    "                    \"true_formants\": true_formants,\n",
    "                    \"frame_index\": frame_index,\n",
    "                    \"num_frames\": x_frames.shape[0],\n",
    "                    \"restart_index\": restart_index,\n",
    "                    \"x\": x,\n",
    "                    \"gf\": gf,\n",
    "                    \"x_frames\": x_frames,\n",
    "                    \"gf_frames\": gf_frames,\n",
    "                }\n",
    "\n",
    "\n",
    "runs = list(all_runs())\n",
    "\n",
    "print(\"Total runs:\", len(runs))\n"
   ]
  },
  {
   "cell_type": "code",
   "execution_count": null,
   "metadata": {},
   "outputs": [],
   "source": [
    "x = jnp.vstack([run[\"x\"] for run in runs])\n",
    "\n",
    "print(\"Data shape:\", x.shape)\n",
    "print(\"Data dtype:\", x.dtype)"
   ]
  },
  {
   "cell_type": "code",
   "execution_count": null,
   "metadata": {},
   "outputs": [],
   "source": [
    "with time_this() as elapsed:\n",
    "    metrics_tree, unpack = vi_run_criterion_batched(\n",
    "        master_key, x, h, batch_size=batch_size, verbose=True\n",
    "    )\n",
    "\n",
    "metrics_list = list(unpack(metrics_tree))"
   ]
  },
  {
   "cell_type": "code",
   "execution_count": null,
   "metadata": {
    "tags": [
     "export"
    ]
   },
   "outputs": [],
   "source": [
    "# export\n",
    "# Mean energy captured by the chosen rank `r`\n",
    "mean_energy = np.mean(energy)\n",
    "\n",
    "# This includes compilation for the shapes of the first and last batch, which are O(1) min\n",
    "time_per_iter = elapsed.walltime / metrics_tree.i.sum()\n",
    "\n",
    "results = [\n",
    "    OpenGlotI.post_process_run(run, metrics, f0)\n",
    "    for run, metrics in tqdm(zip(runs, metrics_list))\n",
    "]"
   ]
  },
  {
   "cell_type": "code",
   "execution_count": null,
   "metadata": {},
   "outputs": [],
   "source": [
    "# Plot best u(t) fit\n",
    "i = int(np.nanargmin([r[\"gf_aligned_nrmse\"] for r in results]))\n",
    "print(i)\n",
    "\n",
    "OpenGlotI.plot_run(runs[i], metrics_list[i], f0, retain_plots=True)"
   ]
  },
  {
   "cell_type": "code",
   "execution_count": null,
   "metadata": {},
   "outputs": [],
   "source": [
    "# Plot best pitch fit\n",
    "i = int(np.nanargmin([r[\"pitch_wrmse\"] for r in results]))\n",
    "print(i)\n",
    "\n",
    "OpenGlotI.plot_run(runs[i], metrics_list[i], f0, retain_plots=True)"
   ]
  },
  {
   "cell_type": "code",
   "execution_count": null,
   "metadata": {},
   "outputs": [],
   "source": [
    "# Plot best formant fit\n",
    "i = int(np.nanargmin([r[\"formant_rmse\"] for r in results]))\n",
    "print(i)\n",
    "\n",
    "OpenGlotI.plot_run(runs[i], metrics_list[i], f0, retain_plots=True)"
   ]
  }
 ],
 "metadata": {
  "kernelspec": {
   "display_name": ".venv (3.10.12)",
   "language": "python",
   "name": "python3"
  },
  "language_info": {
   "codemirror_mode": {
    "name": "ipython",
    "version": 3
   },
   "file_extension": ".py",
   "mimetype": "text/x-python",
   "name": "python",
   "nbconvert_exporter": "python",
   "pygments_lexer": "ipython3",
   "version": "3.10.12"
  }
 },
 "nbformat": 4,
 "nbformat_minor": 2
}
