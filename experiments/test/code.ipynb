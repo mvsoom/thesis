{
 "cells": [
  {
   "cell_type": "code",
   "execution_count": 1,
   "id": "20de1d93",
   "metadata": {
    "tags": [
     "parameters",
     "export"
    ]
   },
   "outputs": [],
   "source": [
    "seed = 0\n",
    "\n",
    "i = 0"
   ]
  },
  {
   "cell_type": "code",
   "execution_count": null,
   "id": "82e52804",
   "metadata": {},
   "outputs": [
    {
     "name": "stdout",
     "output_type": "stream",
     "text": [
      "0 0\n"
     ]
    }
   ],
   "source": [
    "print(seed)\n",
    "print(i)"
   ]
  },
  {
   "cell_type": "code",
   "execution_count": null,
   "id": "6f131972",
   "metadata": {},
   "outputs": [],
   "source": [
    "import jax.numpy as jnp\n"
   ]
  },
  {
   "cell_type": "code",
   "execution_count": null,
   "id": "11d040a0",
   "metadata": {
    "tags": [
     "export"
    ]
   },
   "outputs": [],
   "source": [
    "a = jnp.array([10, 100, 1000, 10000])\n",
    "scalar = jnp.array(-123.456)\n",
    "frames = [  # list of dicts (per-frame metrics)\n",
    "    {\"t\": [7, 8], \"loss\": 0.92},\n",
    "    {\"t\": [1, 2], \"loss\": 0.54},\n",
    "    {\"t\": [4, 3], \"loss\": 0.46},\n",
    "]\n",
    "\n",
    "dd = [\n",
    "    {\"a\": {\"b\": [-5, -6], \"c\": 2}},\n",
    "    {\"b\": {\"d\": 3, \"e\": 4}},\n",
    "]"
   ]
  }
 ],
 "metadata": {
  "kernelspec": {
   "display_name": ".venv (3.10.12)",
   "language": "python",
   "name": "python3"
  },
  "language_info": {
   "codemirror_mode": {
    "name": "ipython",
    "version": 3
   },
   "file_extension": ".py",
   "mimetype": "text/x-python",
   "name": "python",
   "nbconvert_exporter": "python",
   "pygments_lexer": "ipython3",
   "version": "3.10.12"
  }
 },
 "nbformat": 4,
 "nbformat_minor": 5
}
