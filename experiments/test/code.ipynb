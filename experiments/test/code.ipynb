{
 "cells": [
  {
   "cell_type": "code",
   "execution_count": null,
   "id": "20de1d93",
   "metadata": {
    "tags": [
     "parameters",
     "export"
    ]
   },
   "outputs": [],
   "source": [
    "seed = 0\n",
    "\n",
    "i = 0"
   ]
  },
  {
   "cell_type": "code",
   "execution_count": null,
   "id": "82e52804",
   "metadata": {},
   "outputs": [
    {
     "name": "stdout",
     "output_type": "stream",
     "text": [
      "0\n"
     ]
    }
   ],
   "source": [
    "print(seed, i)"
   ]
  },
  {
   "cell_type": "code",
   "execution_count": 9,
   "id": "6d671de2",
   "metadata": {},
   "outputs": [],
   "source": [
    "import jax.random\n",
    "\n",
    "key = jax.random.PRNGKey(seed)\n",
    "x = jax.random.normal(key, (10,))"
   ]
  },
  {
   "cell_type": "code",
   "execution_count": null,
   "id": "11d040a0",
   "metadata": {
    "tags": [
     "export"
    ]
   },
   "outputs": [],
   "source": [
    "# x = np.asarray(x) # NotImplementedError: Scrap of type <class 'numpy.ndarray'> has no supported encoder registered\n",
    "x_mean = x.mean().item()"
   ]
  }
 ],
 "metadata": {
  "kernelspec": {
   "display_name": ".venv (3.10.12)",
   "language": "python",
   "name": "python3"
  },
  "language_info": {
   "codemirror_mode": {
    "name": "ipython",
    "version": 3
   },
   "file_extension": ".py",
   "mimetype": "text/x-python",
   "name": "python",
   "nbconvert_exporter": "python",
   "pygments_lexer": "ipython3",
   "version": "3.10.12"
  }
 },
 "nbformat": 4,
 "nbformat_minor": 5
}
