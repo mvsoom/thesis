{
 "cells": [
  {
   "cell_type": "code",
   "execution_count": null,
   "metadata": {},
   "outputs": [],
   "source": [
    "# https://cola.readthedocs.io/en/latest/package/cola.annotations.html\n",
    "\n",
    "# Better linear algebra support in Jax\n",
    "\n",
    "# Also: https://github.com/AOKullberg/fast-hgp\n",
    "# Can work with sine and cosine basis functions\n",
    "# Aha maybe we can learn m(u) and Kuu like this"
   ]
  },
  {
   "cell_type": "code",
   "execution_count": null,
   "metadata": {},
   "outputs": [],
   "source": [
    "from bngif.iklp import build_X\n",
    "import cola\n",
    "from numpy.random import randn\n",
    "\n",
    "X = build_X(randn(10), 2)"
   ]
  },
  {
   "cell_type": "code",
   "execution_count": null,
   "metadata": {},
   "outputs": [],
   "source": [
    "cola.ops.Dense(X) @ randn(2)"
   ]
  },
  {
   "cell_type": "code",
   "execution_count": null,
   "metadata": {},
   "outputs": [],
   "source": [
    "P = X @ X.T\n",
    "\n",
    "P"
   ]
  },
  {
   "cell_type": "code",
   "execution_count": null,
   "metadata": {},
   "outputs": [],
   "source": [
    "import cola\n",
    "from jax.numpy import eye\n",
    "\n",
    "cola.PSD(eye(5))"
   ]
  },
  {
   "cell_type": "code",
   "execution_count": null,
   "metadata": {},
   "outputs": [],
   "source": [
    "import jax.numpy as jnp\n",
    "cola.ops.Identity(shape=(5,5), dtype=jnp.float64).annotations"
   ]
  }
 ],
 "metadata": {
  "kernelspec": {
   "display_name": ".venv",
   "language": "python",
   "name": "python3"
  },
  "language_info": {
   "codemirror_mode": {
    "name": "ipython",
    "version": 3
   },
   "file_extension": ".py",
   "mimetype": "text/x-python",
   "name": "python",
   "nbconvert_exporter": "python",
   "pygments_lexer": "ipython3",
   "version": "3.12.2"
  }
 },
 "nbformat": 4,
 "nbformat_minor": 2
}
