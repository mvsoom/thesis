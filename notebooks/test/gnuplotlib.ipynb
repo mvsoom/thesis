{
 "cells": [
  {
   "cell_type": "code",
   "execution_count": null,
   "metadata": {},
   "outputs": [],
   "source": [
    "import numpy as np\n",
    "from utils.plotting import iplot\n",
    "\n",
    "x = np.linspace(0, 10, 400)\n",
    "iplot(x, np.sin(x)**2, _with='lines', title=\"Dreet\", export=\"test\")\n"
   ]
  },
  {
   "cell_type": "code",
   "execution_count": null,
   "metadata": {},
   "outputs": [],
   "source": [
    "from pathlib import Path\n",
    "\n",
    "\"figures\" / Path(\"stuff/kut\")"
   ]
  },
  {
   "cell_type": "code",
   "execution_count": null,
   "metadata": {},
   "outputs": [],
   "source": [
    "import numpy      as np\n",
    "import gnuplotlib as gp\n",
    "\n",
    "x = np.arange(101) - 50\n",
    "gp.plot(x**2, hardcopy='plot.svg')"
   ]
  },
  {
   "cell_type": "code",
   "execution_count": null,
   "metadata": {},
   "outputs": [],
   "source": [
    "x,y = np.ogrid[-10:11,-10:11]\n",
    "iplot( x**2 + y**2,\n",
    "         title     = 'Heat map',\n",
    "         unset     = 'grid',\n",
    "         cmds      = 'set view map',\n",
    "         square    = True,\n",
    "         _with     = 'image',\n",
    "         tuplesize = 3)"
   ]
  },
  {
   "cell_type": "code",
   "execution_count": null,
   "metadata": {},
   "outputs": [],
   "source": [
    "theta = np.linspace(0, 6*np.pi, 200)\n",
    "z     = np.linspace(0, 5,       200)\n",
    "g2 = gp.gnuplotlib(_3d = True)\n",
    "g2.plot( np.cos(theta),\n",
    "         np.vstack((np.sin(theta), -np.sin(theta))),\n",
    "         z )"
   ]
  },
  {
   "cell_type": "code",
   "execution_count": null,
   "metadata": {},
   "outputs": [],
   "source": [
    "\n",
    "\n",
    "x = np.arange(1000)\n",
    "gp.plot( (x*x, dict(histogram= True,\n",
    "                    binwidth = 20000,\n",
    "                    legend   = 'Frequency')),\n",
    "         (x*x, dict(histogram='cumulative',\n",
    "                    legend   = 'Cumulative',\n",
    "                    y2       = True )),\n",
    "         ylabel  = 'Histogram frequency',\n",
    "         y2label = 'Cumulative sum')"
   ]
  },
  {
   "cell_type": "code",
   "execution_count": null,
   "metadata": {},
   "outputs": [],
   "source": [
    "import numpy      as np\n",
    "import numpysane  as nps\n",
    "import gnuplotlib as gp\n",
    "\n",
    "th = np.linspace(-2.*np.pi, 2.*np.pi, 100)\n",
    "gp.plot( th,\n",
    "         nps.cat(np.sin(th),\n",
    "                 np.cos(th)),\n",
    "\n",
    "         legend = np.array( (\"sin\", \"cos\"), ) )"
   ]
  },
  {
   "cell_type": "code",
   "execution_count": null,
   "metadata": {},
   "outputs": [],
   "source": [
    "y,x = np.mgrid[-10:11, -8:2]\n",
    "r   = np.sqrt(x*x + y*y)\n",
    "\n",
    "gp.plot( nps.cat(x,r / 5.),\n",
    "         tuplesize = 3,\n",
    "         _with     = np.array(('points palette pt 7',\n",
    "                               'points ps variable pt 6')),\n",
    "         square = True)"
   ]
  },
  {
   "cell_type": "code",
   "execution_count": null,
   "metadata": {},
   "outputs": [],
   "source": [
    "import numpy      as np\n",
    "import numpysane  as nps\n",
    "import gnuplotlib as gp\n",
    "\n",
    "x = np.arange(21) - 10\n",
    "y = x**2 * 10 + 20\n",
    "iplot( ( x + 1,\n",
    "           y + 20,\n",
    "           dict(_with = 'lines') ),\n",
    "\n",
    "         ( x + 1,\n",
    "           y + 20,\n",
    "           x**2/80,\n",
    "           x**2/4,\n",
    "           dict(legend    = \"using the 'x y xdelta ydelta' style\",\n",
    "                _with     = 'xyerrorbars',\n",
    "                tuplesize = 4) ),\n",
    "         ( x,\n",
    "           y,\n",
    "           x - x**2/80,\n",
    "           x + x**2/40,\n",
    "           y - x**2/4,\n",
    "           y + x**2/4 / 2,\n",
    "           dict(legend    = \"using the 'x y xlow xhigh ylow yhigh' style\",\n",
    "                _with     = 'xyerrorbars',\n",
    "                tuplesize = 6)),\n",
    "\n",
    "         ( x, x*20 + 500., np.ones(x.shape) * 40,\n",
    "           dict(legend    = \"using the 'x y ydelta' style; constant ydelta\",\n",
    "                _with     = 'yerrorbars',\n",
    "                tuplesize = 3)),\n",
    "\n",
    "         xmin  = 1 + x[0],\n",
    "         xmax  = 1 + x[-1],\n",
    "         set = 'key box opaque')"
   ]
  },
  {
   "cell_type": "code",
   "execution_count": null,
   "metadata": {},
   "outputs": [],
   "source": [
    "rho = np.linspace(0, 2*np.pi, 1000)  # dim=(  1000,)\n",
    "a   = np.arange(-4,3)[:, np.newaxis] # dim=(7,1)\n",
    "\n",
    "gp.plot( rho,\n",
    "         1./np.cos(rho) + a*np.cos(rho), # broadcasted. dim=(7,1000)\n",
    "\n",
    "         _with  = 'lines',\n",
    "         set    = 'polar',\n",
    "         square = True,\n",
    "         xrange = [-5,5],\n",
    "         yrange = [-5,5],\n",
    "         legend = np.array([\"a = {}\".format(_) for _ in a.ravel()]) )"
   ]
  },
  {
   "cell_type": "code",
   "execution_count": null,
   "metadata": {},
   "outputs": [],
   "source": [
    "N = 60\n",
    "# shape (N+1,N+1,2). Linear values from -1 to 1\n",
    "xy = nps.mv(np.mgrid[0:N+1,0:N+1], 0, -1)/(N/2.) - 1.\n",
    "# shape (N+1,N+1)\n",
    "r = nps.mag(xy)\n",
    "z = np.exp(-r * 2.) * np.sin(xy[...,0]*6) * np.sin(xy[...,1]*6)\n",
    "\n",
    "gp.plot3d(z,\n",
    "          squarexy = True)"
   ]
  },
  {
   "cell_type": "code",
   "execution_count": null,
   "metadata": {},
   "outputs": [],
   "source": [
    "N = 60\n",
    "# shape (N+1,N+1,2). Linear values from -1 to 1\n",
    "xy = nps.mv(np.mgrid[0:N+1,0:N+1], 0, -1)/(N/2.) - 1.\n",
    "# shape (N+1,N+1)\n",
    "r = nps.mag(xy)\n",
    "z = np.exp(-r * 2.) * np.sin(xy[...,0]*6) * np.sin(xy[...,1]*6)\n",
    "\n",
    "gp.plot3d(z,\n",
    "          _with = 'lines',\n",
    "          set = ('view 60,30', 'view equal xy',\n",
    "                 'contour base')\n",
    ")"
   ]
  },
  {
   "cell_type": "code",
   "execution_count": null,
   "metadata": {},
   "outputs": [],
   "source": []
  }
 ],
 "metadata": {
  "kernelspec": {
   "display_name": ".venv",
   "language": "python",
   "name": "python3"
  },
  "language_info": {
   "codemirror_mode": {
    "name": "ipython",
    "version": 3
   },
   "file_extension": ".py",
   "mimetype": "text/x-python",
   "name": "python",
   "nbconvert_exporter": "python",
   "pygments_lexer": "ipython3",
   "version": "3.12.2"
  }
 },
 "nbformat": 4,
 "nbformat_minor": 2
}
