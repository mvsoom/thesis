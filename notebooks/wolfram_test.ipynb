{
 "cells": [
  {
   "cell_type": "code",
   "execution_count": null,
   "id": "0",
   "metadata": {},
   "outputs": [],
   "source": [
    "5 + 6"
   ]
  },
  {
   "cell_type": "markdown",
   "id": "1",
   "metadata": {},
   "source": [
    "$aa+b$ Yes indeed\n"
   ]
  },
  {
   "cell_type": "code",
   "execution_count": null,
   "id": "2",
   "metadata": {},
   "outputs": [],
   "source": [
    "from src.utils.plotting import iplot\n",
    "\n",
    "iplot(x)"
   ]
  },
  {
   "cell_type": "code",
   "execution_count": null,
   "id": "3",
   "metadata": {},
   "outputs": [],
   "source": [
    "from wolframclient.evaluation import WolframLanguageSession\n",
    "from wolframclient.language import wl, wlexpr\n",
    "\n",
    "session = WolframLanguageSession(\"/usr/local/bin/wolfram\")"
   ]
  },
  {
   "cell_type": "code",
   "execution_count": null,
   "id": "4",
   "metadata": {},
   "outputs": [],
   "source": [
    "session.evaluate(\"Range[3]\")"
   ]
  },
  {
   "cell_type": "code",
   "execution_count": null,
   "id": "5",
   "metadata": {},
   "outputs": [],
   "source": [
    "session.evaluate(\"\"\"\n",
    "(*H_(m,n)(f) and \\[Integral]z[m,\\[Theta],f]d\\[Theta]*)\n",
    "n = 0; m = 2;\n",
    "f = -0.789;\n",
    "\n",
    "\\[Omega] = 2 Pi f;\n",
    "x1 = -1; x2 = -x1;\n",
    "\n",
    "(*Original integral in x*)\n",
    "NH[m_, n_, f_] := \n",
    "  NIntegrate[(1 + x^2)^(n/2)*Exp[I*m*ArcTan[x]]*Exp[-I*2*Pi*f*x], {x, \n",
    "     x1, x2}] // Chop;\n",
    "orig = NH[m, n, f]\n",
    "\n",
    "(*Check transformed integral in \\[Theta]: OK *)\n",
    "z[m_, \\[Theta]_, f_] := Exp[I \\[Theta] m - I 2 Pi f Tan[\\[Theta]]]\n",
    "\\[Theta]1 = ArcTan[x1]; \\[Theta]2 = ArcTan[x2];\n",
    "trans = NIntegrate[\n",
    "   Sec[\\[Theta]]^(n + 2)*\n",
    "    z[m, \\[Theta], f], {\\[Theta], \\[Theta]1, \\[Theta]2}] // Chop\n",
    "\"\"\")"
   ]
  },
  {
   "cell_type": "code",
   "execution_count": null,
   "id": "6",
   "metadata": {},
   "outputs": [],
   "source": [
    "session.evaluate(\n",
    "    \"\"\"\n",
    "\n",
    "a = 5;\n",
    "NIntegrate[x,{x, a, 2}] \n",
    "\"\"\"\n",
    ")"
   ]
  }
 ],
 "metadata": {
  "kernelspec": {
   "display_name": ".venv",
   "language": "python",
   "name": "python3"
  },
  "language_info": {
   "codemirror_mode": {
    "name": "ipython",
    "version": 3
   },
   "file_extension": ".py",
   "mimetype": "text/x-python",
   "name": "python",
   "nbconvert_exporter": "python",
   "pygments_lexer": "ipython3",
   "version": "3.12.2"
  }
 },
 "nbformat": 4,
 "nbformat_minor": 5
}
