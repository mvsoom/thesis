{
 "cells": [
  {
   "cell_type": "markdown",
   "metadata": {},
   "source": [
    "# VI\n",
    "\n",
    "Possible optimizations:\n",
    "\n",
    "- Use CG solver warmstarted from previous result for $a$\n",
    "- Use COLA annotations\n"
   ]
  },
  {
   "cell_type": "code",
   "execution_count": null,
   "metadata": {},
   "outputs": [],
   "source": [
    "import jax\n",
    "import jax.numpy as jnp\n",
    "\n",
    "from bngif.iklp import build_Psi, build_X\n",
    "from bngif.gig import GIG, Gamma\n",
    "\n",
    "from utils.plotting import iplot\n"
   ]
  },
  {
   "cell_type": "code",
   "execution_count": null,
   "metadata": {},
   "outputs": [],
   "source": [
    "M = 20\n",
    "P = 4\n",
    "I = 5\n",
    "_lambda = 0.1\n",
    "\n",
    "key = jax.random.PRNGKey(0)\n",
    "key, k1, k2, k3 = jax.random.split(key, 4)\n",
    "\n",
    "x = jax.random.normal(k1, shape=(M,))\n",
    "a = jax.random.normal(k2, shape=(P,)) * jnp.sqrt(_lambda)\n",
    "\n",
    "# K\n",
    "K_root = jax.random.normal(k3, shape=(I, M, M))\n",
    "K = jnp.matmul(\n",
    "    jnp.transpose(K_root, (0, 2, 1)),  # (I, M, M)  = K_rootᵀ\n",
    "    K_root,\n",
    ")\n",
    "\n",
    "a_w = b_w = 1.0\n",
    "a_e = b_e = 1.0\n",
    "alpha = 1.0"
   ]
  },
  {
   "cell_type": "code",
   "execution_count": null,
   "metadata": {},
   "outputs": [],
   "source": [
    "assert not jnp.any(jnp.isnan(jnp.linalg.cholesky(K)))"
   ]
  },
  {
   "cell_type": "code",
   "execution_count": null,
   "metadata": {},
   "outputs": [],
   "source": [
    "zp = {\n",
    "    \"nu_w\": Gamma(a_w, b_w),\n",
    "    \"nu_e\": Gamma(a_e, b_e),\n",
    "    \"theta\": Gamma(jnp.ones(I) * alpha / I, alpha),\n",
    "}\n",
    "\n",
    "zq = {\n",
    "    \"nu_w\": Gamma(a_w, b_w),\n",
    "    \"nu_e\": Gamma(a_e, b_e),\n",
    "    \"theta\": Gamma(jnp.ones(I) * alpha / I, alpha),\n",
    "}\n",
    "\n",
    "is_gig = lambda x: isinstance(x, GIG)\n",
    "\n",
    "tree = jax.tree.map(\n",
    "    lambda d: d.entropy(),\n",
    "    zp,\n",
    "    is_leaf=is_gig,\n",
    ")\n",
    "\n",
    "zp"
   ]
  },
  {
   "cell_type": "code",
   "execution_count": null,
   "metadata": {},
   "outputs": [],
   "source": [
    "jax.tree.map(\n",
    "    lambda d: d.moments(),\n",
    "    zp,\n",
    "    is_leaf=is_gig,\n",
    ")"
   ]
  },
  {
   "cell_type": "code",
   "execution_count": null,
   "metadata": {},
   "outputs": [],
   "source": [
    "from jax.scipy.special import gammaln  # already imported as jss.gammaln\n",
    "\n",
    "\n",
    "def E_log_p_under_q(alpha, beta, q: GIG):\n",
    "    \"\"\"E_q[ log Gamma(alpha,beta) ]  where  q ~ GIG.\"\"\"\n",
    "    mean_z, _, mean_logz = q.moments()  # re-uses your `moments` function\n",
    "\n",
    "    const = alpha * jnp.log(beta) - gammaln(alpha)\n",
    "    return const + (alpha - 1) * mean_logz - beta * mean_z\n"
   ]
  },
  {
   "cell_type": "code",
   "execution_count": null,
   "metadata": {},
   "outputs": [],
   "source": [
    "-E_log_p_under_q(a_w, b_w, zq[\"nu_w\"]) - zq[\"nu_w\"].entropy()"
   ]
  },
  {
   "cell_type": "code",
   "execution_count": null,
   "metadata": {},
   "outputs": [],
   "source": []
  },
  {
   "cell_type": "code",
   "execution_count": null,
   "metadata": {},
   "outputs": [],
   "source": [
    "def KL_test(p, a, b):\n",
    "    testq = GIG(p, a, b)\n",
    "    a_w = 1 / 2.0\n",
    "    b_w = 1 / 3.0\n",
    "    return testq.KL_from_gamma(a_w, b_w)\n",
    "\n",
    "\n",
    "KL_test = jax.jit(KL_test)\n",
    "\n",
    "# generate random p, a, b values many times and test for each combination if nonnegative KL divergence\n",
    "# use broadcasting\n",
    "p = 1.0\n",
    "a = jax.random.uniform(k2, shape=(1000,), minval=0.01, maxval=10)\n",
    "b = jax.random.uniform(k3, shape=(1000,), minval=0.01, maxval=10)\n",
    "kl = KL_test(p, a, b)\n",
    "iplot(kl.sort())\n",
    "\n",
    "assert jnp.all(kl >= 0.0)"
   ]
  },
  {
   "cell_type": "code",
   "execution_count": null,
   "metadata": {},
   "outputs": [],
   "source": [
    "q = {\n",
    "    \"nu_w\": Gamma(a_w, b_w),\n",
    "    \"nu_e\": Gamma(a_e, b_e),\n",
    "    \"theta\": Gamma(jnp.ones(I) * alpha / I, alpha),\n",
    "}\n",
    "\n",
    "q[\"nu_w\"].KL_from_gamma(a_w, b_w), q[\"nu_e\"].KL_from_gamma(a_e, b_e)\n"
   ]
  },
  {
   "cell_type": "code",
   "execution_count": null,
   "metadata": {},
   "outputs": [],
   "source": [
    "q[\"theta\"].KL_from_gamma(alpha / I, alpha)"
   ]
  },
  {
   "cell_type": "code",
   "execution_count": null,
   "metadata": {},
   "outputs": [],
   "source": [
    "[\n",
    "    GIG(t, q[\"theta\"].a, q[\"theta\"].b).KL_from_gamma(alpha / I, alpha)\n",
    "    for t in q[\"theta\"].p\n",
    "]  # ok"
   ]
  },
  {
   "cell_type": "code",
   "execution_count": null,
   "metadata": {},
   "outputs": [],
   "source": [
    "I = 1 / 50\n",
    "\n",
    "Gamma(alpha / I, alpha).KL_from_gamma(alpha / I, alpha)"
   ]
  },
  {
   "cell_type": "code",
   "execution_count": null,
   "metadata": {},
   "outputs": [],
   "source": [
    "I = 400\n",
    "\n",
    "print(Gamma(alpha / I, alpha).entropy(), Gamma(alpha / I, alpha).to_scipy().entropy())"
   ]
  },
  {
   "cell_type": "markdown",
   "metadata": {},
   "source": [
    "problems:\n",
    "\n",
    "E(1/x) does not exist if Gamma(a,b): a <= 1.0\n",
    "\n",
    "Our entropy() function of GIG is off wrt to scipy implementation\n",
    "\n",
    "Problems are caused by b ~ 0 when parametrizing Gamma as a GIG\n",
    "\n",
    "We have to init the q()s differently from Gamma alone it seems\n"
   ]
  },
  {
   "cell_type": "code",
   "execution_count": null,
   "metadata": {},
   "outputs": [],
   "source": [
    "Gamma(a_w, b_w).moments()"
   ]
  },
  {
   "cell_type": "code",
   "execution_count": null,
   "metadata": {},
   "outputs": [],
   "source": [
    "I = jnp.arange(100) + 1\n",
    "\n",
    "q = {\n",
    "    \"nu_w\": Gamma(a_w, b_w),\n",
    "    \"nu_e\": Gamma(a_e, b_e),\n",
    "    \"theta\": Gamma(alpha / I, alpha),\n",
    "}\n",
    "\n",
    "\n",
    "def KL_from_gammas(q):\n",
    "    \"\"\"Calculate KL[q|p] = E_q[log q] - E_q[log p]\"\"\"\n",
    "    return (\n",
    "        # q[\"nu_w\"].KL_from_gamma(a_w, b_w)\n",
    "        # + q[\"nu_e\"].KL_from_gamma(a_e, b_e)\n",
    "        +q[\"theta\"].KL_from_gamma(alpha / I, alpha)\n",
    "    )\n",
    "\n",
    "\n",
    "iplot(KL_from_gammas(q))\n"
   ]
  },
  {
   "cell_type": "code",
   "execution_count": null,
   "metadata": {},
   "outputs": [],
   "source": []
  }
 ],
 "metadata": {
  "kernelspec": {
   "display_name": ".venv",
   "language": "python",
   "name": "python3"
  },
  "language_info": {
   "codemirror_mode": {
    "name": "ipython",
    "version": 3
   },
   "file_extension": ".py",
   "mimetype": "text/x-python",
   "name": "python",
   "nbconvert_exporter": "python",
   "pygments_lexer": "ipython3",
   "version": "3.12.2"
  }
 },
 "nbformat": 4,
 "nbformat_minor": 2
}
