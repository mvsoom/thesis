{
 "cells": [
  {
   "cell_type": "code",
   "execution_count": 2,
   "metadata": {},
   "outputs": [
    {
     "ename": "ModuleNotFoundError",
     "evalue": "No module named 'bngif'",
     "output_type": "error",
     "traceback": [
      "\u001b[31m---------------------------------------------------------------------------\u001b[39m",
      "\u001b[31mModuleNotFoundError\u001b[39m                       Traceback (most recent call last)",
      "\u001b[36mCell\u001b[39m\u001b[36m \u001b[39m\u001b[32mIn[2]\u001b[39m\u001b[32m, line 3\u001b[39m\n\u001b[32m      1\u001b[39m \u001b[38;5;28;01mimport\u001b[39;00m\u001b[38;5;250m \u001b[39m\u001b[34;01mjax\u001b[39;00m\u001b[34;01m.\u001b[39;00m\u001b[34;01mnumpy\u001b[39;00m\u001b[38;5;250m \u001b[39m\u001b[38;5;28;01mas\u001b[39;00m\u001b[38;5;250m \u001b[39m\u001b[34;01mjnp\u001b[39;00m\n\u001b[32m----> \u001b[39m\u001b[32m3\u001b[39m \u001b[38;5;28;01mfrom\u001b[39;00m\u001b[38;5;250m \u001b[39m\u001b[34;01mbngif\u001b[39;00m\u001b[34;01m.\u001b[39;00m\u001b[34;01miklp\u001b[39;00m\u001b[38;5;250m \u001b[39m\u001b[38;5;28;01mimport\u001b[39;00m build_Psi, build_X\n",
      "\u001b[31mModuleNotFoundError\u001b[39m: No module named 'bngif'"
     ]
    }
   ],
   "source": [
    "import jax.numpy as jnp\n",
    "\n",
    "from bngif.iklp import build_Psi, build_X"
   ]
  },
  {
   "cell_type": "code",
   "execution_count": 3,
   "metadata": {},
   "outputs": [
    {
     "name": "stdout",
     "output_type": "stream",
     "text": [
      "[[ 1.   0.   0.   0.   0.   0. ]\n",
      " [-0.8  1.   0.   0.   0.   0. ]\n",
      " [ 0.3 -0.8  1.   0.   0.   0. ]\n",
      " [ 0.   0.3 -0.8  1.   0.   0. ]\n",
      " [ 0.   0.   0.3 -0.8  1.   0. ]\n",
      " [ 0.   0.   0.   0.3 -0.8  1. ]]\n",
      "[[0. 0. 0. 0.]\n",
      " [1. 0. 0. 0.]\n",
      " [2. 1. 0. 0.]\n",
      " [3. 2. 1. 0.]\n",
      " [4. 3. 2. 1.]\n",
      " [5. 4. 3. 2.]]\n"
     ]
    }
   ],
   "source": [
    "import jax\n",
    "\n",
    "M, P = 6, 4\n",
    "a = jnp.array([0.8, -0.3])\n",
    "x = jnp.linspace(1.0, 6.0, M)\n",
    "\n",
    "Ψ = build_Psi(M, a)\n",
    "X = build_X(x, P)\n",
    "\n",
    "print(Ψ)\n",
    "print(X)\n"
   ]
  },
  {
   "cell_type": "code",
   "execution_count": null,
   "metadata": {},
   "outputs": [],
   "source": []
  }
 ],
 "metadata": {
  "kernelspec": {
   "display_name": ".venv",
   "language": "python",
   "name": "python3"
  },
  "language_info": {
   "codemirror_mode": {
    "name": "ipython",
    "version": 3
   },
   "file_extension": ".py",
   "mimetype": "text/x-python",
   "name": "python",
   "nbconvert_exporter": "python",
   "pygments_lexer": "ipython3",
   "version": "3.12.2"
  }
 },
 "nbformat": 4,
 "nbformat_minor": 2
}
